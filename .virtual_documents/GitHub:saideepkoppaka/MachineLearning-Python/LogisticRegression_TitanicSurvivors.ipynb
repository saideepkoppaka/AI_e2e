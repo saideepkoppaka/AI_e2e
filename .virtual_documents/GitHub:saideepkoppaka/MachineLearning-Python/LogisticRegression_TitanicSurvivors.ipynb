import numpy as np
import pandas as pd


import seaborn as sns


import matplotlib.pyplot as plt


%matplotlib inline


titanic = pd.read_csv('titanic_train.csv')


titanic.head()


titanic['Age'].isnull()


titanic.isnull()


sns.heatmap(titanic.isnull(), yticklabels=False, cbar=False, cmap='viridis')


sns.set_style('whitegrid')


sns.countplot(x = 'Survived', data = titanic, hue= 'Sex')


sns.countplot(x = 'Survived', data = titanic, hue= 'Pclass')


sns.distplot(titanic['Age'].dropna(),kde = False, bins = 25)


sns.countplot(x='SibSp', data=titanic)


sns.distplot(titanic['Fare'],bins=40, kde=False)


plt.figure(figsize=(10,7))


sns.boxplot(x='Pclass', y='Age', data = titanic)


#Creating a function to deal with missing age fields


titanic.head(2)


def emptyage(cols):
    Age = cols[0]
    Pclass = cols[1]
    if pd.isnull(Age):
        if Pclass==1:
            return 37
        elif Pclass==2:
            return 29
        else:
            return 24
    else:
        return Age


titanic['Age'] = titanic[['Age','Pclass']].apply(emptyage, axis=1)


sns.heatmap(titanic.isnull(),yticklabels=False, cbar=False, cmap='viridis')


titanic.drop('Cabin',axis=1,inplace = True)


titanic.dropna(inplace=True)


titanic.head()


Gender = pd.get_dummies(titanic['Sex'],drop_first=True)


Gender


Embark = pd.get_dummies(titanic['Embarked'],drop_first=True)


Par = pd.get_dummies(titanic['Parch'],drop_first=True)



titanic = pd.concat([titanic,Gender,Embark,Par],axis =1 )


titanic.head(2)


titanic.drop(['Sex', 'Embarked', 'Name','Ticket'], axis=1, inplace=True)


titanic.drop('PassengerId',axis=1,inplace=True)


titanic.head()


X = titanic.drop('Survived',axis=1)


Y = titanic['Survived']


from sklearn.cross_validation import train_test_split


X_train, X_test, Y_train, Y_test = train_test_split(X,Y,test_size=0.3,random_state=101)


from sklearn.linear_model import LogisticRegression


Logmodel = LogisticRegression()


Logmodel.fit(X_train,Y_train)


predictions = Logmodel.predict(X_test)


from sklearn.metrics import classification_report


print classification_report(Y_test, predictions)


from sklearn.metrics import confusion_matrix


print confusion_matrix(Y_test, predictions)



