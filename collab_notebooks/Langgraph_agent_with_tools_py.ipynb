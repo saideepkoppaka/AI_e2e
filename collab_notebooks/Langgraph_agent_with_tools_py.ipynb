{
  "nbformat": 4,
  "nbformat_minor": 0,
  "metadata": {
    "colab": {
      "provenance": []
    },
    "kernelspec": {
      "name": "python3",
      "display_name": "Python 3"
    },
    "language_info": {
      "name": "python"
    }
  },
  "cells": [
    {
      "cell_type": "code",
      "execution_count": 28,
      "metadata": {
        "id": "lubTBU0uAswF",
        "colab": {
          "base_uri": "https://localhost:8080/",
          "height": 160
        },
        "outputId": "56ebdd2f-766f-4dab-a790-001127c0a03d"
      },
      "outputs": [
        {
          "output_type": "execute_result",
          "data": {
            "text/plain": [
              "\"\\nMulti-Agent System with Real Tools (Tavily Search, LLM Summarization)\\n\\nThis notebook updates the multi-agent LangGraph example to integrate:\\n1.  **Real Web Search:** Using the Tavily Search API instead of mocked results.\\n2.  **LLM-Powered Summarization:** Leveraging an LLM (OpenAI's chat model) for intelligent summarization.\\n3.  **Clear Agents vs. Tools Distinction:** Separating tool definitions from agent logic.\\n\\nAudience: Developers looking to build more capable multi-agent systems by\\nintegrating external APIs and using LLMs for complex tasks, while\\nunderstanding the architectural roles of agents and tools.\\n\\nKey Learning Points:\\n* Practical integration of real-world tools (Tavily, LLM) into LangGraph agents.\\n* Best practices for separating tool functionality from agent decision-making.\\n* Asynchronous execution (`async`/`await`) for external API calls.\\n* Role of LLMs in summarization within a multi-agent pipeline.\\n\""
            ],
            "application/vnd.google.colaboratory.intrinsic+json": {
              "type": "string"
            }
          },
          "metadata": {},
          "execution_count": 28
        }
      ],
      "source": [
        "\"\"\"\n",
        "Multi-Agent System with Real Tools (Tavily Search, LLM Summarization)\n",
        "\n",
        "This notebook updates the multi-agent LangGraph example to integrate:\n",
        "1.  **Real Web Search:** Using the Tavily Search API instead of mocked results.\n",
        "2.  **LLM-Powered Summarization:** Leveraging an LLM (OpenAI's chat model) for intelligent summarization.\n",
        "3.  **Clear Agents vs. Tools Distinction:** Separating tool definitions from agent logic.\n",
        "\n",
        "Audience: Developers looking to build more capable multi-agent systems by\n",
        "integrating external APIs and using LLMs for complex tasks, while\n",
        "understanding the architectural roles of agents and tools.\n",
        "\n",
        "Key Learning Points:\n",
        "* Practical integration of real-world tools (Tavily, LLM) into LangGraph agents.\n",
        "* Best practices for separating tool functionality from agent decision-making.\n",
        "* Asynchronous execution (`async`/`await`) for external API calls.\n",
        "* Role of LLMs in summarization within a multi-agent pipeline.\n",
        "\"\"\""
      ]
    },
    {
      "cell_type": "code",
      "source": [
        "!pip install openai langchain langgraph pandas faiss-cpu langchain_openai langchain-community tavily-python langchain-tavily"
      ],
      "metadata": {
        "colab": {
          "base_uri": "https://localhost:8080/"
        },
        "id": "3vP2VuEWBl-g",
        "outputId": "2a9b6b3d-2e57-45ac-d604-3559e0a63e16"
      },
      "execution_count": 43,
      "outputs": [
        {
          "output_type": "stream",
          "name": "stdout",
          "text": [
            "Requirement already satisfied: openai in /usr/local/lib/python3.11/dist-packages (1.91.0)\n",
            "Requirement already satisfied: langchain in /usr/local/lib/python3.11/dist-packages (0.3.26)\n",
            "Requirement already satisfied: langgraph in /usr/local/lib/python3.11/dist-packages (0.5.0)\n",
            "Requirement already satisfied: pandas in /usr/local/lib/python3.11/dist-packages (2.2.2)\n",
            "Requirement already satisfied: faiss-cpu in /usr/local/lib/python3.11/dist-packages (1.11.0)\n",
            "Requirement already satisfied: langchain_openai in /usr/local/lib/python3.11/dist-packages (0.3.27)\n",
            "Requirement already satisfied: langchain-community in /usr/local/lib/python3.11/dist-packages (0.3.26)\n",
            "Requirement already satisfied: tavily-python in /usr/local/lib/python3.11/dist-packages (0.7.8)\n",
            "Requirement already satisfied: langchain-tavily in /usr/local/lib/python3.11/dist-packages (0.2.5)\n",
            "Requirement already satisfied: anyio<5,>=3.5.0 in /usr/local/lib/python3.11/dist-packages (from openai) (4.9.0)\n",
            "Requirement already satisfied: distro<2,>=1.7.0 in /usr/local/lib/python3.11/dist-packages (from openai) (1.9.0)\n",
            "Requirement already satisfied: httpx<1,>=0.23.0 in /usr/local/lib/python3.11/dist-packages (from openai) (0.28.1)\n",
            "Requirement already satisfied: jiter<1,>=0.4.0 in /usr/local/lib/python3.11/dist-packages (from openai) (0.10.0)\n",
            "Requirement already satisfied: pydantic<3,>=1.9.0 in /usr/local/lib/python3.11/dist-packages (from openai) (2.11.7)\n",
            "Requirement already satisfied: sniffio in /usr/local/lib/python3.11/dist-packages (from openai) (1.3.1)\n",
            "Requirement already satisfied: tqdm>4 in /usr/local/lib/python3.11/dist-packages (from openai) (4.67.1)\n",
            "Requirement already satisfied: typing-extensions<5,>=4.11 in /usr/local/lib/python3.11/dist-packages (from openai) (4.14.0)\n",
            "Requirement already satisfied: langchain-core<1.0.0,>=0.3.66 in /usr/local/lib/python3.11/dist-packages (from langchain) (0.3.66)\n",
            "Requirement already satisfied: langchain-text-splitters<1.0.0,>=0.3.8 in /usr/local/lib/python3.11/dist-packages (from langchain) (0.3.8)\n",
            "Requirement already satisfied: langsmith>=0.1.17 in /usr/local/lib/python3.11/dist-packages (from langchain) (0.4.1)\n",
            "Requirement already satisfied: SQLAlchemy<3,>=1.4 in /usr/local/lib/python3.11/dist-packages (from langchain) (2.0.41)\n",
            "Requirement already satisfied: requests<3,>=2 in /usr/local/lib/python3.11/dist-packages (from langchain) (2.32.3)\n",
            "Requirement already satisfied: PyYAML>=5.3 in /usr/local/lib/python3.11/dist-packages (from langchain) (6.0.2)\n",
            "Requirement already satisfied: langgraph-checkpoint>=2.1.0 in /usr/local/lib/python3.11/dist-packages (from langgraph) (2.1.0)\n",
            "Requirement already satisfied: langgraph-prebuilt>=0.5.0 in /usr/local/lib/python3.11/dist-packages (from langgraph) (0.5.1)\n",
            "Requirement already satisfied: langgraph-sdk>=0.1.42 in /usr/local/lib/python3.11/dist-packages (from langgraph) (0.1.72)\n",
            "Requirement already satisfied: xxhash>=3.5.0 in /usr/local/lib/python3.11/dist-packages (from langgraph) (3.5.0)\n",
            "Requirement already satisfied: numpy>=1.23.2 in /usr/local/lib/python3.11/dist-packages (from pandas) (2.0.2)\n",
            "Requirement already satisfied: python-dateutil>=2.8.2 in /usr/local/lib/python3.11/dist-packages (from pandas) (2.9.0.post0)\n",
            "Requirement already satisfied: pytz>=2020.1 in /usr/local/lib/python3.11/dist-packages (from pandas) (2025.2)\n",
            "Requirement already satisfied: tzdata>=2022.7 in /usr/local/lib/python3.11/dist-packages (from pandas) (2025.2)\n",
            "Requirement already satisfied: packaging in /usr/local/lib/python3.11/dist-packages (from faiss-cpu) (24.2)\n",
            "Requirement already satisfied: tiktoken<1,>=0.7 in /usr/local/lib/python3.11/dist-packages (from langchain_openai) (0.9.0)\n",
            "Requirement already satisfied: aiohttp<4.0.0,>=3.8.3 in /usr/local/lib/python3.11/dist-packages (from langchain-community) (3.11.15)\n",
            "Requirement already satisfied: tenacity!=8.4.0,<10,>=8.1.0 in /usr/local/lib/python3.11/dist-packages (from langchain-community) (8.5.0)\n",
            "Requirement already satisfied: dataclasses-json<0.7,>=0.5.7 in /usr/local/lib/python3.11/dist-packages (from langchain-community) (0.6.7)\n",
            "Requirement already satisfied: pydantic-settings<3.0.0,>=2.4.0 in /usr/local/lib/python3.11/dist-packages (from langchain-community) (2.10.1)\n",
            "Requirement already satisfied: httpx-sse<1.0.0,>=0.4.0 in /usr/local/lib/python3.11/dist-packages (from langchain-community) (0.4.1)\n",
            "Requirement already satisfied: aiohappyeyeballs>=2.3.0 in /usr/local/lib/python3.11/dist-packages (from aiohttp<4.0.0,>=3.8.3->langchain-community) (2.6.1)\n",
            "Requirement already satisfied: aiosignal>=1.1.2 in /usr/local/lib/python3.11/dist-packages (from aiohttp<4.0.0,>=3.8.3->langchain-community) (1.3.2)\n",
            "Requirement already satisfied: attrs>=17.3.0 in /usr/local/lib/python3.11/dist-packages (from aiohttp<4.0.0,>=3.8.3->langchain-community) (25.3.0)\n",
            "Requirement already satisfied: frozenlist>=1.1.1 in /usr/local/lib/python3.11/dist-packages (from aiohttp<4.0.0,>=3.8.3->langchain-community) (1.7.0)\n",
            "Requirement already satisfied: multidict<7.0,>=4.5 in /usr/local/lib/python3.11/dist-packages (from aiohttp<4.0.0,>=3.8.3->langchain-community) (6.4.4)\n",
            "Requirement already satisfied: propcache>=0.2.0 in /usr/local/lib/python3.11/dist-packages (from aiohttp<4.0.0,>=3.8.3->langchain-community) (0.3.2)\n",
            "Requirement already satisfied: yarl<2.0,>=1.17.0 in /usr/local/lib/python3.11/dist-packages (from aiohttp<4.0.0,>=3.8.3->langchain-community) (1.20.1)\n",
            "Requirement already satisfied: idna>=2.8 in /usr/local/lib/python3.11/dist-packages (from anyio<5,>=3.5.0->openai) (3.10)\n",
            "Requirement already satisfied: marshmallow<4.0.0,>=3.18.0 in /usr/local/lib/python3.11/dist-packages (from dataclasses-json<0.7,>=0.5.7->langchain-community) (3.26.1)\n",
            "Requirement already satisfied: typing-inspect<1,>=0.4.0 in /usr/local/lib/python3.11/dist-packages (from dataclasses-json<0.7,>=0.5.7->langchain-community) (0.9.0)\n",
            "Requirement already satisfied: certifi in /usr/local/lib/python3.11/dist-packages (from httpx<1,>=0.23.0->openai) (2025.6.15)\n",
            "Requirement already satisfied: httpcore==1.* in /usr/local/lib/python3.11/dist-packages (from httpx<1,>=0.23.0->openai) (1.0.9)\n",
            "Requirement already satisfied: h11>=0.16 in /usr/local/lib/python3.11/dist-packages (from httpcore==1.*->httpx<1,>=0.23.0->openai) (0.16.0)\n",
            "Requirement already satisfied: jsonpatch<2.0,>=1.33 in /usr/local/lib/python3.11/dist-packages (from langchain-core<1.0.0,>=0.3.66->langchain) (1.33)\n",
            "Requirement already satisfied: ormsgpack>=1.10.0 in /usr/local/lib/python3.11/dist-packages (from langgraph-checkpoint>=2.1.0->langgraph) (1.10.0)\n",
            "Requirement already satisfied: orjson>=3.10.1 in /usr/local/lib/python3.11/dist-packages (from langgraph-sdk>=0.1.42->langgraph) (3.10.18)\n",
            "Requirement already satisfied: requests-toolbelt<2.0.0,>=1.0.0 in /usr/local/lib/python3.11/dist-packages (from langsmith>=0.1.17->langchain) (1.0.0)\n",
            "Requirement already satisfied: zstandard<0.24.0,>=0.23.0 in /usr/local/lib/python3.11/dist-packages (from langsmith>=0.1.17->langchain) (0.23.0)\n",
            "Requirement already satisfied: annotated-types>=0.6.0 in /usr/local/lib/python3.11/dist-packages (from pydantic<3,>=1.9.0->openai) (0.7.0)\n",
            "Requirement already satisfied: pydantic-core==2.33.2 in /usr/local/lib/python3.11/dist-packages (from pydantic<3,>=1.9.0->openai) (2.33.2)\n",
            "Requirement already satisfied: typing-inspection>=0.4.0 in /usr/local/lib/python3.11/dist-packages (from pydantic<3,>=1.9.0->openai) (0.4.1)\n",
            "Requirement already satisfied: python-dotenv>=0.21.0 in /usr/local/lib/python3.11/dist-packages (from pydantic-settings<3.0.0,>=2.4.0->langchain-community) (1.1.1)\n",
            "Requirement already satisfied: six>=1.5 in /usr/local/lib/python3.11/dist-packages (from python-dateutil>=2.8.2->pandas) (1.17.0)\n",
            "Requirement already satisfied: charset-normalizer<4,>=2 in /usr/local/lib/python3.11/dist-packages (from requests<3,>=2->langchain) (3.4.2)\n",
            "Requirement already satisfied: urllib3<3,>=1.21.1 in /usr/local/lib/python3.11/dist-packages (from requests<3,>=2->langchain) (2.4.0)\n",
            "Requirement already satisfied: greenlet>=1 in /usr/local/lib/python3.11/dist-packages (from SQLAlchemy<3,>=1.4->langchain) (3.2.3)\n",
            "Requirement already satisfied: regex>=2022.1.18 in /usr/local/lib/python3.11/dist-packages (from tiktoken<1,>=0.7->langchain_openai) (2024.11.6)\n",
            "Requirement already satisfied: jsonpointer>=1.9 in /usr/local/lib/python3.11/dist-packages (from jsonpatch<2.0,>=1.33->langchain-core<1.0.0,>=0.3.66->langchain) (3.0.0)\n",
            "Requirement already satisfied: mypy-extensions>=0.3.0 in /usr/local/lib/python3.11/dist-packages (from typing-inspect<1,>=0.4.0->dataclasses-json<0.7,>=0.5.7->langchain-community) (1.1.0)\n"
          ]
        }
      ]
    },
    {
      "cell_type": "code",
      "source": [
        "import asyncio\n",
        "import pandas as pd\n",
        "import os\n",
        "from langgraph.graph import StateGraph, END\n",
        "from langchain_openai import OpenAIEmbeddings, ChatOpenAI\n",
        "from langchain.vectorstores import FAISS\n",
        "from langchain_community.tools.tavily_search import TavilySearchResults\n",
        "from langchain_core.prompts import ChatPromptTemplate\n",
        "from langchain_core.output_parsers import StrOutputParser"
      ],
      "metadata": {
        "id": "fHEzgBMyDvfE"
      },
      "execution_count": 77,
      "outputs": []
    },
    {
      "cell_type": "code",
      "source": [
        "# --- Setup: Create Sample Data and Vector Store ---\n",
        "csv_file_name = \"stackoverflow_qa.csv\"\n",
        "if not os.path.exists(csv_file_name):\n",
        "    print(\"Creating sample Stack Overflow dataset...\")\n",
        "    data = [\n",
        "        {\"question\": \"How do I reverse a list in Python?\", \"answer\": \"Use list.reverse() or list[::-1].\"},\n",
        "        {\"question\": \"What is a lambda function in Python?\", \"answer\": \"A lambda function is an anonymous function defined with the lambda keyword.\"},\n",
        "        {\"question\": \"How to install a package using pip?\", \"answer\": \"Run 'pip install package_name' in your terminal.\"},\n",
        "        {\"question\": \"What is the difference between a list and a tuple?\", \"answer\": \"Lists are mutable, tuples are immutable.\"},\n",
        "        {\"question\": \"How can I read a file in Python?\", \"answer\": \"Use open('filename') and read() or readline() methods.\"}\n",
        "    ]\n",
        "    df_init = pd.DataFrame(data)\n",
        "    df_init.to_csv(csv_file_name, index=False)\n",
        "    print(\"Sample Stack Overflow dataset created!\")\n",
        "\n",
        "df = pd.read_csv(csv_file_name)\n",
        "qa_pairs = df.to_dict(orient=\"records\")\n",
        "docs = [f\"Q: {row['question']}\\nA: {row['answer']}\" for row in qa_pairs]"
      ],
      "metadata": {
        "id": "4lG0uliJD5vp"
      },
      "execution_count": 3,
      "outputs": []
    },
    {
      "cell_type": "code",
      "source": [
        "from google.colab import userdata\n",
        "openai_token = userdata.get('OPENAI_API_KEY')\n",
        "tavily_api_key = userdata.get('TAVILY_API_KEY')\n",
        "import os\n",
        "os.environ['OPENAI_API_KEY'] = openai_token\n",
        "os.environ['TAVILY_API_KEY'] = tavily_api_key"
      ],
      "metadata": {
        "id": "AkRewo4WEVh5"
      },
      "execution_count": 4,
      "outputs": []
    },
    {
      "cell_type": "code",
      "source": [
        "# Initialize LLM and Embeddings (for KB and Summarization)\n",
        "try:\n",
        "    llm = ChatOpenAI(model=\"gpt-4o\", temperature=0.2) # Using a capable LLM for summarization\n",
        "    embeddings = OpenAIEmbeddings()\n",
        "    print(\"LLM and Embeddings initialized.\")\n",
        "except Exception as e:\n",
        "    print(f\"Error initializing LLM/Embeddings: {e}\")\n",
        "    print(\"Please ensure OPENAI_API_KEY environment variable is set.\")\n",
        "    exit() # Exit if we can't initialize critical components\n",
        "\n",
        "vectorstore = FAISS.from_texts(docs, embeddings)\n",
        "print(\"FAISS vector store initialized.\")"
      ],
      "metadata": {
        "colab": {
          "base_uri": "https://localhost:8080/"
        },
        "id": "u9lUy8kgEAM9",
        "outputId": "185182f5-ddf6-4aa1-b1ed-79c65ae89aca"
      },
      "execution_count": 95,
      "outputs": [
        {
          "output_type": "stream",
          "name": "stdout",
          "text": [
            "LLM and Embeddings initialized.\n",
            "FAISS vector store initialized.\n"
          ]
        }
      ]
    },
    {
      "cell_type": "code",
      "source": [
        "# --- Distinction: Define TOOLS (External Capabilities) ---\n",
        "# Tools are specific functions or API wrappers that perform atomic actions.\n",
        "# Agents will 'call' or 'use' these tools."
      ],
      "metadata": {
        "id": "GrPznMPcEJ41"
      },
      "execution_count": 6,
      "outputs": []
    },
    {
      "cell_type": "code",
      "source": [
        "# Tool 1: Knowledge Base Retrieval Tool\n",
        "# This tool encapsulates the logic for searching our local FAISS vector store.\n",
        "async def retrieve_from_kb_tool(question: str) -> str | None:\n",
        "    \"\"\"Retrieves a relevant answer from the local knowledge base.\"\"\"\n",
        "    print(f\"  [Tool: KB Retrieval]: Searching for '{question}'...\")\n",
        "    # Simulate a small I/O delay for a local lookup\n",
        "    await asyncio.sleep(0.1)\n",
        "    results = vectorstore.similarity_search_with_score(f\"Q: {question}\", k=1)\n",
        "    if results and results[0][1] < 0.5: # Use a lower score for better match in FAISS (score is distance, lower is better)\n",
        "        doc = results[0][0]\n",
        "        print(f\"  [Tool: KB Retrieval]: Found match with score {results[0][1]:.2f}\")\n",
        "        return doc.page_content.split(\"A:\")[-1].strip()\n",
        "    print(\"  [Tool: KB Retrieval]: No strong match found.\")\n",
        "    return None"
      ],
      "metadata": {
        "id": "s3flFHBNFW-5"
      },
      "execution_count": 96,
      "outputs": []
    },
    {
      "cell_type": "code",
      "metadata": {
        "colab": {
          "base_uri": "https://localhost:8080/"
        },
        "id": "647a14af",
        "outputId": "2dc35228-c7de-4738-c172-ebbec6b3137c"
      },
      "source": [
        "# Tool 2: Tavily Web Search Tool\n",
        "# This tool uses the TavilySearch class from langchain_tavily.\n",
        "# It makes a real API call to Tavily.\n",
        "from langchain_tavily import TavilySearch\n",
        "\n",
        "tavily_search_tool = TavilySearch(max_results=3) # Limit results to 3 for brevity and cost\n",
        "print(\"TavilySearch tool initialized.\")"
      ],
      "execution_count": 133,
      "outputs": [
        {
          "output_type": "stream",
          "name": "stdout",
          "text": [
            "TavilySearch tool initialized.\n"
          ]
        }
      ]
    },
    {
      "cell_type": "code",
      "source": [
        "# Tool 3: LLM Summarization Tool\n",
        "# This tool uses our ChatOpenAI LLM to summarize given texts.\n",
        "async def llm_summarize_tool(question: str, kb_answer: str | None, web_results: str | None) -> str:\n",
        "    \"\"\"\n",
        "    Summarizes information from the knowledge base and web search using an LLM.\n",
        "    \"\"\"\n",
        "    print(\"  [Tool: LLM Summarization]: Summarizing information...\")\n",
        "    # Define the prompt for summarization\n",
        "    prompt_template = ChatPromptTemplate.from_messages(\n",
        "        [\n",
        "            (\"system\", \"You are an expert assistant. Summarize the provided information to answer the user's question concisely and accurately. If no information is provided, state that you couldn't find an answer.\"),\n",
        "            (\"user\", \"Question: {question}\\n\\nKnowledge Base Answer: {kb_answer}\\n\\nWeb Search Results: {web_results}\\n\\nProvide a comprehensive answer based on the available information:\")\n",
        "        ]\n",
        "    )\n",
        "\n",
        "    # Create an LLM chain for summarization\n",
        "    summarization_chain = prompt_template | llm | StrOutputParser()\n",
        "\n",
        "    # Invoke the LLM chain asynchronously\n",
        "    # This is an I/O operation and should be awaited.\n",
        "    summary = await summarization_chain.ainvoke({\n",
        "        \"question\": question,\n",
        "        \"kb_answer\": kb_answer if kb_answer else \"None provided.\",\n",
        "        \"web_results\": web_results if web_results else \"None provided.\"\n",
        "    })\n",
        "    print(\"  [Tool: LLM Summarization]: Summary generated.\")\n",
        "    return summary"
      ],
      "metadata": {
        "id": "Zn-B6WqZF1Fk"
      },
      "execution_count": 134,
      "outputs": []
    },
    {
      "cell_type": "code",
      "source": [
        "# Tool 4: Logger Tool\n",
        "# Simple tool to log unanswered questions to a file.\n",
        "async def log_unanswered_tool(question: str, log_file=\"unanswered_questions_real_tools.txt\") -> str:\n",
        "    \"\"\"Logs an unanswered question to a file.\"\"\"\n",
        "    print(f\"  [Tool: Logger]: Logging unanswered question: '{question}'...\")\n",
        "    await asyncio.sleep(0.05) # Simulate file write delay\n",
        "    with open(log_file, \"a\") as f:\n",
        "        f.write(question + \"\\n\")\n",
        "    print(f\"  [Tool: Logger]: Question logged to '{log_file}'.\")\n",
        "    return \"Question logged for human review.\""
      ],
      "metadata": {
        "id": "ExcpCkA1GGs_"
      },
      "execution_count": 135,
      "outputs": []
    },
    {
      "cell_type": "code",
      "source": [
        "from typing import TypedDict, Optional\n",
        "\n",
        "class AgentState(TypedDict):\n",
        "    \"\"\"\n",
        "    Represents the state of the multi-agent system for a single run.\n",
        "    This dictates what data is passed between nodes in the LangGraph.\n",
        "    \"\"\"\n",
        "    question: str\n",
        "    kb_answer: Optional[str]\n",
        "    web_results: Optional[str]\n",
        "    final_answer: Optional[str]\n",
        "    found_in_kb: bool\n",
        "    web_search_performed: bool\n",
        "    logged: bool\n",
        "    final_answer_found: bool # Add this as it's used in conditional edges"
      ],
      "metadata": {
        "id": "yeKw3oFLGKQH"
      },
      "execution_count": 142,
      "outputs": []
    },
    {
      "cell_type": "code",
      "source": [
        "# --- Define AGENTS (Decision-Making Nodes in LangGraph) ---\n",
        "# Agents orchestrate tool usage and decide the next step in the workflow."
      ],
      "metadata": {
        "id": "tC17mSMqGxbO"
      },
      "execution_count": 12,
      "outputs": []
    },
    {
      "cell_type": "code",
      "source": [
        "# Agent 1: Knowledge Base Agent\n",
        "# Attempts to find an answer in our local FAISS vector store using `retrieve_from_kb_tool`.\n",
        "async def knowledge_base_agent_node(state: AgentState) -> AgentState:\n",
        "    print(f\"\\n[Agent: KnowledgeBase]: Current state keys: {state.keys()}\")\n",
        "    print(f\"[Agent: KnowledgeBase]: Full state: {state}\")\n",
        "    question = state[\"question\"]\n",
        "    print(f\"[Agent: KnowledgeBase]: Receiving question: '{question}'\")\n",
        "\n",
        "    # Agent calls the KB retrieval tool\n",
        "    kb_answer = await retrieve_from_kb_tool(question)\n",
        "\n",
        "    state[\"kb_answer\"] = kb_answer\n",
        "    if kb_answer:\n",
        "        state[\"found_in_kb\"] = True\n",
        "        print(\"[Agent: KnowledgeBase]: Found answer in KB.\")\n",
        "    else:\n",
        "        state[\"found_in_kb\"] = False\n",
        "        print(\"[Agent: KnowledgeBase]: No strong match in KB.\")\n",
        "    return state"
      ],
      "metadata": {
        "id": "gXIpYGxHG7bY"
      },
      "execution_count": 137,
      "outputs": []
    },
    {
      "cell_type": "code",
      "source": [
        "# Agent 2: Web Search Orchestrator Agent\n",
        "# Decides whether to perform a web search and executes `tavily_search_tool`.\n",
        "# Renamed to reflect its role as an orchestrator of the web search tool.\n",
        "async def web_search_orchestrator_agent_node(state: AgentState) -> AgentState:\n",
        "    # This agent only runs if a good answer wasn't found in the KB\n",
        "    if state[\"found_in_kb\"]:\n",
        "        print(\"\\n[Agent: WebSearchOrchestrator]: Skipping web search as KB had an answer.\")\n",
        "        return state\n",
        "\n",
        "    question = state[\"question\"]\n",
        "    print(f\"\\n[Agent: WebSearchOrchestrator]: Decided to perform web search for: '{question}'\")\n",
        "    state[\"web_search_performed\"] = True\n",
        "\n",
        "    try:\n",
        "        # --- DEBUGGING STEP 1: Inspect the raw search_results ---\n",
        "        print(f\"[Agent: WebSearchOrchestrator]: Calling TavilySearch for question: '{question}'\")\n",
        "        search_results_raw = await tavily_search_tool.ainvoke(question)\n",
        "        print(f\"[Agent: WebSearchOrchestrator]: Raw Tavily Search results type: {type(search_results_raw)}\")\n",
        "        print(f\"[Agent: WebSearchOrchestrator]: Raw Tavily Search results value: {search_results_raw}\")\n",
        "\n",
        "\n",
        "        # Ensure search_results is always a list of dictionaries\n",
        "        if isinstance(search_results_raw, dict):\n",
        "            search_results = [search_results_raw]\n",
        "            print(\"[Agent: WebSearchOrchestrator]: Wrapped single dict result into a list.\")\n",
        "        elif isinstance(search_results_raw, list):\n",
        "            search_results = search_results_raw\n",
        "            print(f\"[Agent: WebSearchOrchestrator]: Received a list of {len(search_results)} results.\")\n",
        "        else:\n",
        "            print(f\"[Agent: WebSearchOrchestrator]: Unexpected type for search_results_raw: {type(search_results_raw)}. Assuming no valid results.\")\n",
        "            search_results = [] # Treat as no results\n",
        "\n",
        "        # --- DEBUGGING STEP 2: Inspect individual results after standardization ---\n",
        "        if not search_results:\n",
        "            print(\"[Agent: WebSearchOrchestrator]: No results found after standardization.\")\n",
        "        else:\n",
        "            print(f\"[Agent: WebSearchOrchestrator]: Processing {len(search_results)} standardized results.\")\n",
        "            for i, res in enumerate(search_results):\n",
        "                print(f\"  Result {i+1} Type: {type(res)}, Keys: {res.keys() if isinstance(res, dict) else 'N/A'}\")\n",
        "                print(f\"    URL: {res.get('url', 'N/A')}\")\n",
        "                print(f\"    Content snippet: {res.get('content', 'No content available.')[:100]}...\") # Print first 100 chars\n",
        "                print(f\"    Title: {res.get('title', 'N/A')}\") # Check if title is available\n",
        "\n",
        "        # Convert list of dicts to a readable string for the LLM\n",
        "        # Use .get() to safely access keys and provide default empty strings if keys are missing\n",
        "        formatted_results = \"\\n\\n\".join([\n",
        "            f\"Source: {res.get('url', 'N/A')}\\nTitle: {res.get('title', 'No Title Available')}\\nContent: {res.get('content', 'No content available.')}\"\n",
        "            for res in search_results\n",
        "        ])\n",
        "\n",
        "        state[\"web_results\"] = formatted_results\n",
        "        print(f\"[Agent: WebSearchOrchestrator]: Web search completed. Retrieved {len(search_results)} results. Formatted length: {len(formatted_results)} characters.\")\n",
        "        if not formatted_results:\n",
        "            print(\"[Agent: WebSearchOrchestrator]: Formatted results are empty.\")\n",
        "\n",
        "    except Exception as e:\n",
        "        print(f\"[Agent: WebSearchOrchestrator]: An unexpected error occurred during web search: {e}\")\n",
        "        state[\"web_results\"] = f\"Error during web search: {e}\" # Store the actual error for debugging if needed\n",
        "\n",
        "    return state"
      ],
      "metadata": {
        "id": "gl_WzISNG-B1"
      },
      "execution_count": 138,
      "outputs": []
    },
    {
      "cell_type": "code",
      "source": [
        "# Agent 3: Summarization Agent\n",
        "# Takes the retrieved answers and uses the `llm_summarize_tool` to synthesize a final answer.\n",
        "async def summarization_agent_node(state: AgentState) -> AgentState:\n",
        "    print(\"\\n[Agent: Summarization]: Receiving inputs for summarization.\")\n",
        "\n",
        "    question = state[\"question\"]\n",
        "    kb_answer = state[\"kb_answer\"]\n",
        "    web_results = state[\"web_results\"]\n",
        "\n",
        "    # Agent calls the LLM summarization tool\n",
        "    final_summary = await llm_summarize_tool(question, kb_answer, web_results)\n",
        "\n",
        "    state[\"final_answer\"] = final_summary\n",
        "\n",
        "    # Simple check if the LLM actually found an answer or just stated it couldn't\n",
        "    if \"couldn't find\" in final_summary.lower() or \"no sufficient answer\" in final_summary.lower():\n",
        "        state[\"final_answer_found\"] = False\n",
        "        print(\"[Agent: Summarization]: LLM indicated no sufficient answer.\")\n",
        "    else:\n",
        "        state[\"final_answer_found\"] = True\n",
        "        print(\"[Agent: Summarization]: Final answer summarized.\")\n",
        "\n",
        "    return state"
      ],
      "metadata": {
        "id": "6Lj05glyHKts"
      },
      "execution_count": 139,
      "outputs": []
    },
    {
      "cell_type": "code",
      "source": [
        "# Agent 4: Logger Agent\n",
        "# Uses the `log_unanswered_tool` if no sufficient answer was found.\n",
        "async def logger_agent_node(state: AgentState) -> AgentState:\n",
        "    # This agent only runs if the summarization agent couldn't find a sufficient answer\n",
        "    if state.get(\"final_answer_found\", False):\n",
        "        print(\"\\n[Agent: Logger]: Skipping logging as a sufficient answer was found.\")\n",
        "        state[\"logged\"] = False\n",
        "        return state\n",
        "\n",
        "    question = state[\"question\"]\n",
        "    print(f\"\\n[Agent: Logger]: Decided to log unanswered question: '{question}'\")\n",
        "\n",
        "    # Agent calls the logging tool\n",
        "    log_message = await log_unanswered_tool(question)\n",
        "    state[\"logged\"] = True\n",
        "    # Overwrite final_answer with log message if we are here because no answer was found\n",
        "    state[\"final_answer\"] = log_message\n",
        "    print(\"[Agent: Logger]: Question logged.\")\n",
        "    return state"
      ],
      "metadata": {
        "id": "vxwHXgbvHQq1"
      },
      "execution_count": 140,
      "outputs": []
    },
    {
      "cell_type": "code",
      "source": [
        "# --- Build the LangGraph for the Multi-Agent System ---\n",
        "\n",
        "# Define the graph using our AgentState\n",
        "graph = StateGraph(AgentState)"
      ],
      "metadata": {
        "id": "UbwI2l2dHTyY"
      },
      "execution_count": 143,
      "outputs": []
    },
    {
      "cell_type": "code",
      "source": [
        "# Add nodes for each agent function\n",
        "# Note: These are the AGENTS (decision makers), not the tools directly.\n",
        "graph.add_node(\"knowledge_base_lookup\", knowledge_base_agent_node)\n",
        "graph.add_node(\"web_search_orchestration\", web_search_orchestrator_agent_node)\n",
        "graph.add_node(\"summarize_results\", summarization_agent_node)\n",
        "graph.add_node(\"log_unanswered\", logger_agent_node)"
      ],
      "metadata": {
        "colab": {
          "base_uri": "https://localhost:8080/"
        },
        "id": "e3oyLJkFHmEM",
        "outputId": "ea3ed95e-4191-4c4e-e8b4-4e269637aa60"
      },
      "execution_count": 144,
      "outputs": [
        {
          "output_type": "execute_result",
          "data": {
            "text/plain": [
              "<langgraph.graph.state.StateGraph at 0x7e5c44eb3750>"
            ]
          },
          "metadata": {},
          "execution_count": 144
        }
      ]
    },
    {
      "cell_type": "code",
      "source": [
        "# Set the entry point for the graph\n",
        "graph.set_entry_point(\"knowledge_base_lookup\")\n",
        "\n",
        "# Define conditional edges based on whether KB found an answer\n",
        "graph.add_conditional_edges(\n",
        "    \"knowledge_base_lookup\",\n",
        "    # If KB found an answer, go directly to summarization\n",
        "    lambda state: \"summarize_results\" if state[\"found_in_kb\"] else \"web_search_orchestration\",\n",
        "    {\"summarize_results\": \"summarize_results\", \"web_search_orchestration\": \"web_search_orchestration\"}\n",
        ")\n",
        "\n",
        "# After web search, always proceed to summarization\n",
        "graph.add_edge(\"web_search_orchestration\", \"summarize_results\")\n",
        "\n",
        "# After summarization, conditionally end or log if no final answer was generated by LLM\n",
        "graph.add_conditional_edges(\n",
        "    \"summarize_results\",\n",
        "    # Check the flag set by the summarization agent\n",
        "    lambda state: END if state.get(\"final_answer_found\", False) else \"log_unanswered\",\n",
        "    {END: END, \"log_unanswered\": \"log_unanswered\"}\n",
        ")\n",
        "\n",
        "# After logging, the process ends\n",
        "graph.add_edge(\"log_unanswered\", END)"
      ],
      "metadata": {
        "colab": {
          "base_uri": "https://localhost:8080/"
        },
        "id": "-uypAfTnH4u5",
        "outputId": "cc26030b-de55-4321-fd79-b29222243a85"
      },
      "execution_count": 145,
      "outputs": [
        {
          "output_type": "execute_result",
          "data": {
            "text/plain": [
              "<langgraph.graph.state.StateGraph at 0x7e5c44eb3750>"
            ]
          },
          "metadata": {},
          "execution_count": 145
        }
      ]
    },
    {
      "cell_type": "code",
      "source": [
        "# Compile the graph\n",
        "multi_agent_qa_graph = graph.compile()\n",
        "print(\"\\nLangGraph compiled with real tools and distinct agents/tools.\")"
      ],
      "metadata": {
        "colab": {
          "base_uri": "https://localhost:8080/"
        },
        "id": "k2N69EaQH-mu",
        "outputId": "7e3a2123-f0fc-40a7-fb2d-0a333a1e7255"
      },
      "execution_count": 146,
      "outputs": [
        {
          "output_type": "stream",
          "name": "stdout",
          "text": [
            "\n",
            "LangGraph compiled with real tools and distinct agents/tools.\n"
          ]
        }
      ]
    },
    {
      "cell_type": "code",
      "source": [
        "multi_agent_qa_graph"
      ],
      "metadata": {
        "colab": {
          "base_uri": "https://localhost:8080/",
          "height": 548
        },
        "id": "4u4ygLheIB51",
        "outputId": "bbc0731a-b0b2-4f3d-8445-6e8af974d563"
      },
      "execution_count": 147,
      "outputs": [
        {
          "output_type": "execute_result",
          "data": {
            "text/plain": [
              "<langgraph.graph.state.CompiledStateGraph object at 0x7e5c44f3ca90>"
            ],
            "image/png": "[encoded data removed]"
          },
          "metadata": {},
          "execution_count": 147
        }
      ]
    },
    {
      "cell_type": "code",
      "source": [
        "# --- Main Asynchronous Execution Function ---\n",
        "\n",
        "async def ask_multi_agent_question(question: str):\n",
        "    initial_state = {\"question\": question,\n",
        "                     \"kb_answer\": None,\n",
        "                     \"web_results\": None,\n",
        "                     \"final_answer\": None,\n",
        "                     \"found_in_kb\": False,\n",
        "                     \"web_search_performed\": False,\n",
        "                     \"logged\": False,\n",
        "                     \"final_answer_found\": False} # Initialize all keys!\n",
        "    print(f\"\\n--- Starting multi-agent process for: '{question}' ---\")\n",
        "    final_state = await multi_agent_qa_graph.ainvoke(initial_state)\n",
        "    print(f\"--- Multi-agent process finished for: '{question}' ---\")\n",
        "    return final_state[\"final_answer\"]"
      ],
      "metadata": {
        "id": "SRxyoyHFIDYH"
      },
      "execution_count": 148,
      "outputs": []
    },
    {
      "cell_type": "code",
      "source": [
        "# --- Command-line Interface to interact with the Multi-Agent System ---\n",
        "\n",
        "async def main():\n",
        "    print(\"Welcome to the Enhanced Multi-Agent Stack Overflow Assistant!\")\n",
        "    print(\"Type your Python question, or 'exit' to quit.\")\n",
        "    print(\"\\nNote: This now uses Tavily Search for web queries and an LLM for summarization.\")\n",
        "    print(\"Ensure OPENAI_API_KEY and TAVILY_API_KEY are set as Colab secrets.\")\n",
        "\n",
        "    while True:\n",
        "        user_q = input(\"\\nQ: \")\n",
        "        if user_q.lower() == \"exit\":\n",
        "            break\n",
        "\n",
        "        answer = await ask_multi_agent_question(user_q)\n",
        "        print(f\"\\nA: {answer}\")"
      ],
      "metadata": {
        "id": "JU6VSLgxIOPN"
      },
      "execution_count": 149,
      "outputs": []
    },
    {
      "cell_type": "code",
      "source": [
        "# --- Entry point for running the asynchronous application ---\n",
        "if __name__ == \"__main__\":\n",
        "    # asyncio.run(main()) # This will cause issues in environments like Colab that already have a running event loop\n",
        "    # Instead, directly await the main coroutine\n",
        "    await main()"
      ],
      "metadata": {
        "colab": {
          "base_uri": "https://localhost:8080/"
        },
        "id": "s2SvFLgXITb7",
        "outputId": "75164296-2474-4a78-dc37-9df3d1edab5f"
      },
      "execution_count": 150,
      "outputs": [
        {
          "name": "stdout",
          "output_type": "stream",
          "text": [
            "Welcome to the Enhanced Multi-Agent Stack Overflow Assistant!\n",
            "Type your Python question, or 'exit' to quit.\n",
            "\n",
            "Note: This now uses Tavily Search for web queries and an LLM for summarization.\n",
            "Ensure OPENAI_API_KEY and TAVILY_API_KEY are set as Colab secrets.\n",
            "\n",
            "Q: how to fix skew in spark jobs?\n",
            "\n",
            "--- Starting multi-agent process for: 'how to fix skew in spark jobs?' ---\n",
            "\n",
            "[Agent: KnowledgeBase]: Current state keys: dict_keys(['question', 'kb_answer', 'web_results', 'final_answer', 'found_in_kb', 'web_search_performed', 'logged', 'final_answer_found'])\n",
            "[Agent: KnowledgeBase]: Full state: {'question': 'how to fix skew in spark jobs?', 'kb_answer': None, 'web_results': None, 'final_answer': None, 'found_in_kb': False, 'web_search_performed': False, 'logged': False, 'final_answer_found': False}\n",
            "[Agent: KnowledgeBase]: Receiving question: 'how to fix skew in spark jobs?'\n",
            "  [Tool: KB Retrieval]: Searching for 'how to fix skew in spark jobs?'...\n",
            "  [Tool: KB Retrieval]: No strong match found.\n",
            "[Agent: KnowledgeBase]: No strong match in KB.\n",
            "\n",
            "[Agent: WebSearchOrchestrator]: Decided to perform web search for: 'how to fix skew in spark jobs?'\n",
            "[Agent: WebSearchOrchestrator]: Calling TavilySearch for question: 'how to fix skew in spark jobs?'\n",
            "[Agent: WebSearchOrchestrator]: Raw Tavily Search results type: <class 'dict'>\n",
            "[Agent: WebSearchOrchestrator]: Raw Tavily Search results value: {'query': 'how to fix skew in spark jobs?', 'follow_up_questions': None, 'answer': None, 'images': [], 'results': [{'title': 'How To Fix - Data Skewness in Spark (Salting Method)', 'url': 'https://gankrin.org/fix-data-skewness-in-spark-salting-method/', 'content': \"This causes the overall Spark job to Standstill , Low utilization of CPU and sometimes even memory issues. This is in nutshell what is Data Skew and How it affects Low Performance in Spark Now Let's see How to Fix the Data Skew issue - First technique is- Salting or Key-Salting.\", 'score': 0.8573986, 'raw_content': None}, {'title': 'Handling Data Skew in Apache Spark: Techniques, Tips and ... - Medium', 'url': 'https://medium.com/@suffyan.asad1/handling-data-skew-in-apache-spark-techniques-tips-and-tricks-to-improve-performance-e2934b00b021', 'content': 'This re-partitioning of the data by the column(s) being joined can cause a data-skew if the data is unevenly distributed among different values of the partition key column(s). If using newer versions of Spark (3.0 or newer, ideally 3.2 or newer), or if it is possible to use newer versions of Spark, it is possible to utilize Adaptive Query Execution (AQE) to further improve data distribution and handle skew. Running the join_on_skewed_data_with_subsplitfunction with AQE enabled, the processing time has improved improved to around 31–32 seconds. Data Skew is difficult to identify using query plans, and it can be detected using the Spark UI, by inspecting the statistics of tasks in stages and identifying staggering tasks.', 'score': 0.79254496, 'raw_content': None}, {'title': 'Tackling Data Skew in Spark Jobs: Causes, Detection, and Solutions', 'url': 'https://www.cloudopsnow.in/tackling-data-skew-in-spark-jobs-causes-detection-and-solutions/', 'content': \"Introduction Data skew is one of the most notorious performance killers in Apache Spark jobs. When a handful of tasks handle disproportionately large datasets, your entire pipeline grinds to a halt—even if 99% of your data is evenly distributed. In this guide, we'll demystify data skew in Spark, explain how to detect it, and share battle-tested strategies to mitigate its impact.\", 'score': 0.71995544, 'raw_content': None}], 'response_time': 1.86}\n",
            "[Agent: WebSearchOrchestrator]: Wrapped single dict result into a list.\n",
            "[Agent: WebSearchOrchestrator]: Processing 1 standardized results.\n",
            "  Result 1 Type: <class 'dict'>, Keys: dict_keys(['query', 'follow_up_questions', 'answer', 'images', 'results', 'response_time'])\n",
            "    URL: N/A\n",
            "    Content snippet: No content available....\n",
            "    Title: N/A\n",
            "[Agent: WebSearchOrchestrator]: Web search completed. Retrieved 1 results. Formatted length: 68 characters.\n",
            "\n",
            "[Agent: Summarization]: Receiving inputs for summarization.\n",
            "  [Tool: LLM Summarization]: Summarizing information...\n",
            "  [Tool: LLM Summarization]: Summary generated.\n",
            "[Agent: Summarization]: Final answer summarized.\n",
            "--- Multi-agent process finished for: 'how to fix skew in spark jobs?' ---\n",
            "\n",
            "A: To fix skew in Spark jobs, you can consider the following strategies:\n",
            "\n",
            "1. **Data Skew Mitigation**:\n",
            "   - **Salting**: Add a random prefix to keys to distribute data more evenly across partitions.\n",
            "   - **Increase Parallelism**: Increase the number of partitions to better distribute the data load.\n",
            "   - **Custom Partitioning**: Use a custom partitioner to control how data is distributed across partitions.\n",
            "\n",
            "2. **Optimize Joins**:\n",
            "   - **Broadcast Joins**: Use broadcast joins for smaller datasets to avoid shuffling large amounts of data.\n",
            "   - **Skewed Join Optimization**: Identify skewed keys and handle them separately, possibly using different join strategies for skewed and non-skewed keys.\n",
            "\n",
            "3. **Data Sampling and Filtering**:\n",
            "   - **Sample Data**: Analyze a sample of the data to understand the distribution and identify skewed keys.\n",
            "   - **Filter Skewed Data**: Process skewed data separately or filter it out if it's not needed for the analysis.\n",
            "\n",
            "4. **Resource Allocation**:\n",
            "   - **Dynamic Resource Allocation**: Enable dynamic allocation of resources to handle varying loads during job execution.\n",
            "   - **Executor Configuration**: Adjust executor memory and cores to better handle skewed data loads.\n",
            "\n",
            "5. **Monitor and Analyze**:\n",
            "   - Use Spark's UI and logs to monitor job execution and identify stages where skew is causing performance issues.\n",
            "   - Analyze the distribution of data across partitions to identify skew.\n",
            "\n",
            "By implementing these strategies, you can mitigate the effects of skew in Spark jobs and improve performance.\n",
            "\n",
            "Q: how to reduce runtime of spark job by 100X\n",
            "\n",
            "--- Starting multi-agent process for: 'how to reduce runtime of spark job by 100X' ---\n",
            "\n",
            "[Agent: KnowledgeBase]: Current state keys: dict_keys(['question', 'kb_answer', 'web_results', 'final_answer', 'found_in_kb', 'web_search_performed', 'logged', 'final_answer_found'])\n",
            "[Agent: KnowledgeBase]: Full state: {'question': 'how to reduce runtime of spark job by 100X', 'kb_answer': None, 'web_results': None, 'final_answer': None, 'found_in_kb': False, 'web_search_performed': False, 'logged': False, 'final_answer_found': False}\n",
            "[Agent: KnowledgeBase]: Receiving question: 'how to reduce runtime of spark job by 100X'\n",
            "  [Tool: KB Retrieval]: Searching for 'how to reduce runtime of spark job by 100X'...\n",
            "  [Tool: KB Retrieval]: No strong match found.\n",
            "[Agent: KnowledgeBase]: No strong match in KB.\n",
            "\n",
            "[Agent: WebSearchOrchestrator]: Decided to perform web search for: 'how to reduce runtime of spark job by 100X'\n",
            "[Agent: WebSearchOrchestrator]: Calling TavilySearch for question: 'how to reduce runtime of spark job by 100X'\n",
            "[Agent: WebSearchOrchestrator]: Raw Tavily Search results type: <class 'dict'>\n",
            "[Agent: WebSearchOrchestrator]: Raw Tavily Search results value: {'query': 'how to reduce runtime of spark job by 100X', 'follow_up_questions': None, 'answer': None, 'images': [], 'results': [{'title': 'Optimize Spark jobs for performance - Azure Synapse Analytics', 'url': 'https://learn.microsoft.com/en-us/azure/synapse-analytics/spark/apache-spark-performance', 'content': \"The best format for performance is parquet with snappy compression, which is the default in Spark 2.x. Parquet stores data in columnar format, and is highly optimized in Spark. However, Spark native caching currently doesn't work well with partitioning, since a cached table doesn't keep the partitioning data. Spark operates by placing data in memory, so managing memory resources is a key aspect of optimizing the execution of Spark jobs. Spark jobs are distributed, so appropriate data serialization is important for the best performance. By default, Spark uses the `SortMerge` join type. You can change the join type in your configuration by setting `spark.sql.autoBroadcastJoinThreshold`, or you can set a join hint using the DataFrame APIs (`dataframe.join(broadcast(df2))`).\", 'score': 0.49582586, 'raw_content': None}, {'title': 'Spark final task takes 100x times longer than first 199, how to improve', 'url': 'https://stackoverflow.com/questions/38517835/spark-final-task-takes-100x-times-longer-than-first-199-how-to-improve', 'content': 'Spark final task takes 100x times longer than first 199, how to improve Asked 8 years, 10 months ago Modified 5 years, 4 months ago Viewed 23k times', 'score': 0.4627892, 'raw_content': None}, {'title': 'How to Optimize Spark Jobs for Faster Performance', 'url': 'https://dataengineeracademy.com/module/how-to-optimize-spark-jobs-for-faster-performance/', 'content': 'Learn how to optimize Spark jobs for faster performance with step-by-step tips. Improve efficiency, reduce runtime, and boost productivity today!', 'score': 0.39690995, 'raw_content': None}], 'response_time': 1.86}\n",
            "[Agent: WebSearchOrchestrator]: Wrapped single dict result into a list.\n",
            "[Agent: WebSearchOrchestrator]: Processing 1 standardized results.\n",
            "  Result 1 Type: <class 'dict'>, Keys: dict_keys(['query', 'follow_up_questions', 'answer', 'images', 'results', 'response_time'])\n",
            "    URL: N/A\n",
            "    Content snippet: No content available....\n",
            "    Title: N/A\n",
            "[Agent: WebSearchOrchestrator]: Web search completed. Retrieved 1 results. Formatted length: 68 characters.\n",
            "\n",
            "[Agent: Summarization]: Receiving inputs for summarization.\n",
            "  [Tool: LLM Summarization]: Summarizing information...\n",
            "  [Tool: LLM Summarization]: Summary generated.\n",
            "[Agent: Summarization]: Final answer summarized.\n",
            "--- Multi-agent process finished for: 'how to reduce runtime of spark job by 100X' ---\n",
            "\n",
            "A: To reduce the runtime of a Spark job by a significant factor such as 100X, consider the following strategies:\n",
            "\n",
            "1. **Optimize Data Storage**: Use efficient data formats like Parquet or ORC, which are optimized for Spark processing. These formats support columnar storage and compression, reducing I/O operations.\n",
            "\n",
            "2. **Partitioning and Bucketing**: Properly partition and bucket your data to ensure that Spark can efficiently read and process it. This helps in reducing data shuffling and improves parallelism.\n",
            "\n",
            "3. **Resource Allocation**: Ensure that your Spark job has adequate resources. This includes setting the right number of executors, cores, and memory. Over-provisioning can also lead to inefficiencies, so balance is key.\n",
            "\n",
            "4. **Optimize Spark Configurations**: Tweak Spark configurations such as `spark.sql.shuffle.partitions`, `spark.executor.memory`, and `spark.executor.cores` to match your workload requirements.\n",
            "\n",
            "5. **Use Caching**: Cache intermediate data when it is reused multiple times in your job. This avoids recomputation and speeds up processing.\n",
            "\n",
            "6. **Optimize Transformations**: Use narrow transformations (like `map` and `filter`) instead of wide transformations (like `groupByKey`) when possible, as they are more efficient.\n",
            "\n",
            "7. **Broadcast Joins**: For small datasets, use broadcast joins to avoid the overhead of shuffling large datasets across the cluster.\n",
            "\n",
            "8. **Avoid Skew**: Ensure that your data is evenly distributed across partitions to avoid skew, which can lead to some tasks taking significantly longer than others.\n",
            "\n",
            "9. **Code Optimization**: Review and optimize your Spark code. Avoid using UDFs if possible, as they can be slower than native Spark functions.\n",
            "\n",
            "10. **Upgrade Spark Version**: Ensure you are using the latest stable version of Spark, as newer versions often come with performance improvements and optimizations.\n",
            "\n",
            "Implementing these strategies can help significantly reduce the runtime of your Spark job. However, achieving a 100X reduction may require a combination of these optimizations and potentially rethinking the overall architecture and logic of your Spark application.\n",
            "\n",
            "Q: how to reverse string in python?\n",
            "\n",
            "--- Starting multi-agent process for: 'how to reverse string in python?' ---\n",
            "\n",
            "[Agent: KnowledgeBase]: Current state keys: dict_keys(['question', 'kb_answer', 'web_results', 'final_answer', 'found_in_kb', 'web_search_performed', 'logged', 'final_answer_found'])\n",
            "[Agent: KnowledgeBase]: Full state: {'question': 'how to reverse string in python?', 'kb_answer': None, 'web_results': None, 'final_answer': None, 'found_in_kb': False, 'web_search_performed': False, 'logged': False, 'final_answer_found': False}\n",
            "[Agent: KnowledgeBase]: Receiving question: 'how to reverse string in python?'\n",
            "  [Tool: KB Retrieval]: Searching for 'how to reverse string in python?'...\n",
            "  [Tool: KB Retrieval]: Found match with score 0.22\n",
            "[Agent: KnowledgeBase]: Found answer in KB.\n",
            "\n",
            "[Agent: Summarization]: Receiving inputs for summarization.\n",
            "  [Tool: LLM Summarization]: Summarizing information...\n",
            "  [Tool: LLM Summarization]: Summary generated.\n",
            "[Agent: Summarization]: Final answer summarized.\n",
            "--- Multi-agent process finished for: 'how to reverse string in python?' ---\n",
            "\n",
            "A: To reverse a string in Python, you can use either of the following methods:\n",
            "\n",
            "1. **Slicing**: You can reverse a string using slicing with the syntax `string[::-1]`. This creates a new string that is the reverse of the original.\n",
            "\n",
            "   ```python\n",
            "   original_string = \"hello\"\n",
            "   reversed_string = original_string[::-1]\n",
            "   print(reversed_string)  # Output: \"olleh\"\n",
            "   ```\n",
            "\n",
            "2. **Using `reversed()` and `join()`**: You can also use the `reversed()` function along with `join()` to reverse a string.\n",
            "\n",
            "   ```python\n",
            "   original_string = \"hello\"\n",
            "   reversed_string = ''.join(reversed(original_string))\n",
            "   print(reversed_string)  # Output: \"olleh\"\n",
            "   ```\n",
            "\n",
            "Both methods are efficient and commonly used for reversing strings in Python.\n",
            "\n",
            "Q: differentiate list and tuple\n",
            "\n",
            "--- Starting multi-agent process for: 'differentiate list and tuple' ---\n",
            "\n",
            "[Agent: KnowledgeBase]: Current state keys: dict_keys(['question', 'kb_answer', 'web_results', 'final_answer', 'found_in_kb', 'web_search_performed', 'logged', 'final_answer_found'])\n",
            "[Agent: KnowledgeBase]: Full state: {'question': 'differentiate list and tuple', 'kb_answer': None, 'web_results': None, 'final_answer': None, 'found_in_kb': False, 'web_search_performed': False, 'logged': False, 'final_answer_found': False}\n",
            "[Agent: KnowledgeBase]: Receiving question: 'differentiate list and tuple'\n",
            "  [Tool: KB Retrieval]: Searching for 'differentiate list and tuple'...\n",
            "  [Tool: KB Retrieval]: Found match with score 0.19\n",
            "[Agent: KnowledgeBase]: Found answer in KB.\n",
            "\n",
            "[Agent: Summarization]: Receiving inputs for summarization.\n",
            "  [Tool: LLM Summarization]: Summarizing information...\n",
            "  [Tool: LLM Summarization]: Summary generated.\n",
            "[Agent: Summarization]: Final answer summarized.\n",
            "--- Multi-agent process finished for: 'differentiate list and tuple' ---\n",
            "\n",
            "A: Lists and tuples are both data structures in Python that can store collections of items. However, they have some key differences:\n",
            "\n",
            "1. **Mutability**: \n",
            "   - **Lists** are mutable, meaning you can change, add, or remove elements after the list has been created.\n",
            "   - **Tuples** are immutable, meaning once a tuple is created, you cannot change its elements.\n",
            "\n",
            "2. **Syntax**:\n",
            "   - **Lists** are defined using square brackets, e.g., `my_list = [1, 2, 3]`.\n",
            "   - **Tuples** are defined using parentheses, e.g., `my_tuple = (1, 2, 3)`.\n",
            "\n",
            "3. **Performance**:\n",
            "   - **Tuples** can be slightly faster than lists when iterating through them, due to their immutability.\n",
            "   - **Lists** may have a bit more overhead because they are mutable.\n",
            "\n",
            "4. **Use Cases**:\n",
            "   - **Lists** are generally used when you need a collection of items that may need to be changed or updated.\n",
            "   - **Tuples** are used when you want to ensure the data remains constant throughout the program, or when using them as keys in dictionaries.\n",
            "\n",
            "5. **Methods**:\n",
            "   - **Lists** have several built-in methods like `append()`, `remove()`, and `sort()`.\n",
            "   - **Tuples** have fewer methods, mainly those that do not alter the tuple, like `count()` and `index()`.\n",
            "\n",
            "These differences make lists and tuples suitable for different scenarios depending on the requirements of mutability and performance.\n",
            "\n",
            "Q: exit\n"
          ]
        }
      ]
    },
    {
      "cell_type": "code",
      "source": [],
      "metadata": {
        "id": "2QMWE7ZmJx8D"
      },
      "execution_count": null,
      "outputs": []
    }
  ]
}