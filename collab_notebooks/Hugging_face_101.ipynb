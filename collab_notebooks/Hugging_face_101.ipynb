{
 "cells": [
  {
   "cell_type": "code",
   "execution_count": null,
   "metadata": {
    "colab": {
     "base_uri": "https://localhost:8080/"
    },
    "id": "VLFTjNPzP8w-",
    "outputId": "7c12af34-130f-42ff-b428-5832e39968e8"
   },
   "outputs": [],
   "source": [
    "print(\"exploring transformers\")"
   ]
  },
  {
   "cell_type": "code",
   "execution_count": null,
   "metadata": {
    "colab": {
     "base_uri": "https://localhost:8080/"
    },
    "id": "hhaZYSXAR5LF",
    "outputId": "aa9bc689-4b23-468d-c043-e75c93f89c25"
   },
   "outputs": [],
   "source": [
    "!pip install -q transformers datasets huggingface_hub langchain langchain-community"
   ]
  },
  {
   "cell_type": "code",
   "execution_count": null,
   "metadata": {
    "id": "H5d3WIv8bAyY"
   },
   "outputs": [],
   "source": [
    "## 🔍 Step 1: Using Public Models (No Token Required)"
   ]
  },
  {
   "cell_type": "code",
   "execution_count": null,
   "metadata": {
    "id": "ZlilBSBYbFRd"
   },
   "outputs": [],
   "source": [
    "from transformers import pipeline"
   ]
  },
  {
   "cell_type": "code",
   "execution_count": null,
   "metadata": {
    "colab": {
     "base_uri": "https://localhost:8080/",
     "height": 236,
     "referenced_widgets": [
      "8104ffcb21104b738454a850cd233dd2",
      "664389429dc64df5a74bee721be8e1bc",
      "e07fbf4373fd4399954c4f51526f54e4",
      "14cd151b6db54b6dacb8e833cd2bdd5c",
      "27e95a56be1f47b19648de11b9c3b39b",
      "b63942636cd9410286da5a488a396df3",
      "2103901a95ee4721ab5eb32e5f05336f",
      "7265999ea5eb43ac96aafc47064796e3",
      "cb9cf0650df74f22bf1b747a4226447f",
      "02f9a3b8fad34d7c804595dba2703bb1",
      "72192ddd7f6b463aae7c3bbe15f4eb4f",
      "5a0702d1617b45e8ab00892b26198a67",
      "d4778e3836474632a0ef65d86ad41665",
      "d0d58abbd46f450f8497d2d2391f2f15",
      "229a0dc217ea491581f0f83cd280e75e",
      "b55d9bd0469b4da09ee8debd4666fab9",
      "caf9a14926684b1692c080ea6e1298f8",
      "fd8d0e1595394b2bb86cb852ceda3b1b",
      "6fd24175a98e461997ac4077222fdf71",
      "e35399d7b4c842ed9eb30309623d5dbd",
      "9ac8db1ada324be08503d9f2f8b43e7a",
      "e18dfdd667d64ee095c341308285e532",
      "f8a15d4ce0364d0481479c25d4572050",
      "dcdf68fc614c43a396c1ff5caad43689",
      "ef264f51927647c0bc40d8477df8dc86",
      "b9af68053878400298e840c0db817742",
      "b3820b6337724e46a73443d38c1868a2",
      "b73267d9576442b7bd577f4c0584c86d",
      "cae9ee8838534c3e859fa74f2068af90",
      "3c7849bf6dc24e948b21b585f69582ec",
      "c2dec4cc1ac34021b2915b6fd81fbe86",
      "d4352558d1684db5bb3662c6263fa651",
      "3ea3ec69254a4078ad8fbf6cce24aca3",
      "26e70656614647cda9075243d4961cfe",
      "8afc332e804e4ef48c64ef0d4e7638c7",
      "bd5e732beac54c9a9d150457671f4074",
      "9c20518e654a4adc97800e5c17250231",
      "5f88dfb7369e4ee8b341547aeca91a7c",
      "208a94529c8b490c8816e15310dd292a",
      "89099af262c046638af44b339f7d5225",
      "153bab4fd95241d0a9a0686c4d83b37b",
      "8e8264748ae144638ec3b3c4d945b277",
      "eccb521de33e4b57b57ac43a1cb1de18",
      "b4b50c80e1c743caab71a8aeec857cab"
     ]
    },
    "id": "0d9Y_GVbbHnc",
    "outputId": "a236fba2-7a48-45f7-d63b-3edca18a9bfd"
   },
   "outputs": [],
   "source": [
    "# Sentiment Analysis\n",
    "classifier = pipeline(\"sentiment-analysis\")\n",
    "print(classifier(\"I love eating Biryani!\"))"
   ]
  },
  {
   "cell_type": "code",
   "execution_count": null,
   "metadata": {
    "colab": {
     "base_uri": "https://localhost:8080/",
     "height": 326,
     "referenced_widgets": [
      "5817e1acfc1e4e2b82f502adb1bdcc4d",
      "9ceed00c4f4541fea2405da8d8667173",
      "6cd9b43462344b8687a61f22c85e8b1b",
      "279ddebac32d4a7a9e536ca5ba5afcd1",
      "8dff4350c4b4429ab9321f07ca3d1691",
      "977d74ec4ab4435189e2df2aa44e98ad",
      "46cd828fe73c468fbd7751726ee2a789",
      "97660969d10341c2b7014ef8479b56d3",
      "6039320ab61c461e98e6c39a50fff7fc",
      "a2df8e2afadb427ea5a680048fc465ad",
      "e8f3439400d748e5a82fcd1d8ed6ff5c",
      "9e72360357274027a10288ad1b96acf7",
      "cd10f6b6f9c34597bf9196907efdb1e6",
      "b3cc15d50ac04e8c9041690a5cfcd1a9",
      "2cc67b75fad64e32b88374f7947676b7",
      "f7cd532e0a944abba08db4a9f156cd06",
      "73c0aaac5bb04099afc86adef72f7fa1",
      "3cb7f0311b4c4bb0b79065eb6d3a9ded",
      "87d8ee9e1b6d4deeb61cb0de90e779bc",
      "c643c79f1d7a4bf295a14994aca3000a",
      "0cdf477a7f93424c80c3a2f6c9249cec",
      "9584df67f4ea4da3b52845547ec597ed",
      "86ecee45196f498491f1057cc3b0ce9d",
      "c8e2ea387957481aa6f29b92870a05c2",
      "7043e0554bcd4714b5352528dcceafe6",
      "f2815f69f03d4e74b94bd02699536c6d",
      "35cb754b5ff946aa87e000902f2a92d4",
      "bd531daa474f4d68808921e12ed51b9b",
      "1cccd16962414b668cbe9675fc082280",
      "1835cefa7c314e189cef78406b829df8",
      "4a416d6395fa41379aede01b6b128d41",
      "70fb9877f13844b4b167f7ef99dd76ca",
      "f4281387ac0741fc818154850788a318",
      "3b9296bc5296444094d59e94bb87506c",
      "8b13737fb8b343c39183c7e0e161d8e8",
      "0d98761a61d5457991730a2e922e462b",
      "246700d84483422cabf23ff62134a896",
      "ea70bd8ce76646a09f4f48d27956a18d",
      "f83d6b77857048fa959c64e5ad066420",
      "900ae3aa84a44e5b8160956995540a27",
      "df3cd6d4531a45d89db1f2c9a445a59c",
      "4c6e2d79caae45519ba0d6a27c1f2f81",
      "b1f701b5e3ee464e8c6da8a806cb3a96",
      "91107fdd5452419d852894eebb120ac1"
     ]
    },
    "id": "QeI6q1EBbMB5",
    "outputId": "196ae658-573d-4740-ce10-2c58f92b7fc8"
   },
   "outputs": [],
   "source": [
    "# Named Entity Recognition (NER)\n",
    "ner = pipeline(\"ner\", grouped_entities=True)\n",
    "print(ner(\"My name is saideep and I live in Chicago\"))"
   ]
  },
  {
   "cell_type": "code",
   "execution_count": null,
   "metadata": {
    "colab": {
     "base_uri": "https://localhost:8080/",
     "height": 318,
     "referenced_widgets": [
      "1302085a73654552a007f11b3f5077e3",
      "15b6bc93557549f98031f0e9894766d6",
      "aa45c48671c34fad9e1b5e20d417f4cb",
      "9ed478bcaeee4c6b86aa0f0c70df5798",
      "ac9fe432de014dbbb04559a337f8edad",
      "691f703987f04b0e9389eff7e0b7871d",
      "60c83515d69f46e9b286b46b2d45ffb3",
      "ec7159c0dcfc402f9a8c810330be4bcd",
      "7e5d6b9d62754484bbfb2a0e65be9d7f",
      "aa00e730ca8f4cf2a32536732deb7fa1",
      "d3d036dff74645cc981bba61215940be",
      "6f8c3d0d1a5445fe8a703d1505897d00",
      "af58df453e0e4b919a3efa965bcdb6f0",
      "c5cbc75029254cb1a3c55034c2a48af8",
      "7caf2bb5e7c847338a2bf591d3ac35b6",
      "083d29359a0345959036b80d08396aea",
      "065505fa482a4e509bf85a62711050a3",
      "27d7d0f454c04befb30bc74afb3e169e",
      "313d8db6aa2d4c8b86bec0745e210cbf",
      "775ddceaa9a74c4d95e6b0c190fed8b3",
      "bebcc7a69bf14d348df2b9526b0789c8",
      "439fa3c951c94fa688ef8724b036e5b2",
      "33369ef9a80245be8b0df196a9814fd8",
      "bce3fb386b9a4d4b92cde6872b8c0712",
      "c9b6e3b0974d44209daee4586648a5bb",
      "ab6e653cbf14405b9edc72aa1cd83894",
      "0167efe8edfc439c99481ff96cf24684",
      "6069f3bcde754030871808bab73efa13",
      "2f2265c6030a4e578fd0d9b036a14b09",
      "1db1776e11504b8084aafde863238dd4",
      "c9cd9d37137e49ac82b401136a4ebb4b",
      "50065e3144e8440ebbecbceea514dc6c",
      "d62d05e118064913a3a64801562fb5f9",
      "6ae511b5c8bb4234888d6efc27f06c80",
      "fea6ccbc2856402c895855f92c355529",
      "41f7eb3bbf7d4a2b993f10a6d12f7b61",
      "847ca1d0ff234736ae28eb5598f673cd",
      "48cb3cf1f40a4c4e8b897bf554a2fe6b",
      "2082ee7964cb45c6823c1a4622e7107a",
      "cc21cc130e9e48409f38dac376969dd0",
      "ccaa4ee3b7584d2da62e37a6e4029cba",
      "529065d83bc4447d881883930a7fa72d",
      "dd20746bcceb457f9c75852c7222c774",
      "fecd9c59a09241a19dce19adb8f2aed2",
      "9e0506d76c3a40b28cf30ed963f8b2df",
      "81e9aa87396c4593b77e700c7032e04f",
      "e5dbb8c519dc4e3299a54c4dfb05f206",
      "4ccc8b04bd944284accf54f937374336",
      "24e7435883b541e995cbd78783840a81",
      "358df718b6c04b2294a31a1c074daa20",
      "6389fc4b54954538b62afb240f195ce3",
      "c329159a776a4f3fae13d2978d5fb126",
      "e909ba818cde47d59d576bce2b5c96b4",
      "570da86edfe4464b9459a3eb7e173d68",
      "9e3a3166a874464db30c87dded049dc2",
      "eec023bf7d104e3c953307ddd7f85890",
      "eb451383139f4ce195c85e326ffc3ffb",
      "2b5a7824a10b40a9a80338ee8bac36da",
      "45a794d12e964709b8aac3b39468fb23",
      "09b8b76593d04ea8962f7bccd132359d",
      "f55a960180cb4e3eb3378b37c2afa486",
      "135dd0f6c26f47e9a2633711270b95c6",
      "597cd9f4b9054401aa70f07b4782b4ce",
      "d9017375f9e64c58981cdc880d684d8c",
      "59ce7a4063464ec79c4e9220fb1757cb",
      "7d6dc4259bd646c59c7f31b215f471b5"
     ]
    },
    "id": "T_VoEnk-bSJM",
    "outputId": "4f7bcada-05a5-4f30-d909-f6d705b22149"
   },
   "outputs": [],
   "source": [
    "# Text Summarization\n",
    "summarizer = pipeline(\"summarization\")\n",
    "article = \"\"\"\n",
    "The Hugging Face Transformers library provides thousands of pretrained models\n",
    "for Natural Language Understanding (NLU) and Natural Language Generation (NLG).\n",
    "\"\"\"\n",
    "print(summarizer(article))"
   ]
  },
  {
   "cell_type": "code",
   "execution_count": null,
   "metadata": {
    "colab": {
     "base_uri": "https://localhost:8080/"
    },
    "id": "bpDd_ku_bkTV",
    "outputId": "057de87f-ff44-47f6-f131-912607a42d16"
   },
   "outputs": [],
   "source": [
    "## ⚙️ Step 2: Enable GPU (Runtime > Change Runtime Type > GPU)\n",
    "import torch\n",
    "print(\"GPU available:\", torch.cuda.is_available())"
   ]
  },
  {
   "cell_type": "code",
   "execution_count": null,
   "metadata": {
    "colab": {
     "base_uri": "https://localhost:8080/"
    },
    "id": "Kw5IQB5sbxb2",
    "outputId": "6509791b-3f9a-4ae3-9f72-1ca3752a59c6"
   },
   "outputs": [],
   "source": [
    "## 🔐 Step 3: Use Token for Private or Advanced Access\n",
    "\n",
    "from huggingface_hub import login\n",
    "from google.colab import userdata\n",
    "hf_token = userdata.get('HF_TOKEN')\n",
    "if hf_token:\n",
    "    login(token=hf_token)\n",
    "    print(\"succefully logged in\")\n",
    "else:\n",
    "    print(\"HF_TOKEN not found in environment. Please add it in Colab Secrets.\")"
   ]
  },
  {
   "cell_type": "code",
   "execution_count": null,
   "metadata": {
    "colab": {
     "base_uri": "https://localhost:8080/"
    },
    "id": "fvPr3_z8b89j",
    "outputId": "6c42a897-4ea3-4687-91eb-1a3e54795781"
   },
   "outputs": [],
   "source": [
    "## 🔐 Step 4a: calling a model from inference end point\n",
    "from huggingface_hub import InferenceClient\n",
    "\n",
    "client = InferenceClient(token=hf_token)\n",
    "\n",
    "# Call hosted API endpoint for text summarization\n",
    "model_id = \"facebook/bart-large-cnn\"  # Large summarization model\n",
    "\n",
    "text = \"\"\"\n",
    "Hugging Face provides a wide range of transformer models for natural language processing.\n",
    "The Inference API lets you run these models on Hugging Face infrastructure without downloading locally.\n",
    "\"\"\"\n",
    "\n",
    "response = client.summarization(text, model=model_id)\n",
    "print(\"Summary (from hosted endpoint):\", response)"
   ]
  },
  {
   "cell_type": "code",
   "execution_count": null,
   "metadata": {
    "colab": {
     "base_uri": "https://localhost:8080/",
     "height": 379,
     "referenced_widgets": [
      "e95f513ef77b4e968468448ac362ed1a",
      "ec3b090dbb7b4d618200e861c55231ee",
      "fcdcc7e89605477d96f6ad8090eb77f1",
      "46e91323719c45f0a15a29c62756ee30",
      "4ff01e1089ad47f780470d668e78d800",
      "3911fe10853e469ea95d0c4e4d1015e2",
      "74e0a21798124c0db193e8d57888c257",
      "8aaa9347cccb4902bd5f69aa541fc3c5",
      "dc02705ee2294bd68d3512cb3818df3f",
      "d61a415c6fea4c13828a0e720fa664dd",
      "d27f302c430c4950ae392cd8e001cac0",
      "2b07794ef62c4c9d9565fe68fb3fc680",
      "a8ae3c88903a40c389d9939bb4633b97",
      "e8ee7445581b42b6bf130127224a2b2e",
      "05cd09f7d7af46a5ade178bb4e0432ad",
      "8427535cb7924c9b916f0d207969891f",
      "3e46466c429142ff9a00ca128a625260",
      "779ab8d92cd44a238ba97280a4671eb7",
      "45e09b3e130c45949907b2475a022dee",
      "c17966eb8610432184606b462c50debe",
      "cd80442c7f9b4641ac52b75b6cc36bea",
      "d6e240c488b3443bb93b63cd5e2b86b6",
      "ecb099bde98149e5a0abe99b4b944d98",
      "2f4ff68c92b64dce89f3fe5dc4084929",
      "412384510ccb44b684d666b2db462910",
      "1817ed5ebf1c4f7b9711a7876a753e91",
      "39b6378ba24a4e3788a079752541cf69",
      "22f0ce598fca42b39f14c724d2f8269b",
      "5a77ef943b4a49b29750fc3045418af6",
      "384b2355953049208a1cde701817aff6",
      "5f32d05769214b9ba659f856980e6b29",
      "6e8ac7e492e34c1da889ecf6c4a255c5",
      "f155997ce724442fbe4b4157fe19ddd6",
      "498fb145e59e49aa805bfe55d9138cbe",
      "3f62661e025040c0b218f1315dd108c9",
      "959b7f34389340198f01ca8945260192",
      "03fe53bf2d1a476b97e8df6b93d7ac50",
      "1af2043521b242659d06514f0fa1870e",
      "8600727d64b649b491961ba71c2ff95c",
      "0ff9384f8e754ad996fbdc470d412f74",
      "6d76555cec204613aa43d0102954c0b4",
      "690f6b81f242451686b285c00eaad4d4",
      "81ec5c30927e43fa86c51dbe838f27db",
      "ff7fb4f7ae624fe784fafd3e876e5781",
      "21aa04ca240b404583c3c7d7426ec4a7",
      "528beda16c8f4688a4f517ba638f64c3",
      "d91347ea08bf4a738adb810f66223ffa",
      "2a433a1a270c4c9a85dfad02a4c1c9b6",
      "c7a6dbd2424a4ceaad5ab9e15bcd3244",
      "9fb91d301f1c454f99cb966ba812f59e",
      "41a276388e854321861d026aead3e8d7",
      "16dd13d0cf2d444fbc08f6faa30eab60",
      "08ccef91d852461fa3263378f9124e7f",
      "b382843204624d76884b174acadeff69",
      "12bee7da0a144f67a71d5fabe5922ac9",
      "cb109c303fb14a29a09441221059be6e",
      "453bbd6e98204775afbe0df75ba75b1b",
      "700bd68b7a7242949d427e6aaaafe93d",
      "468432c7556c4daf8a043a04d7045a6a",
      "9656e8e32915459c8516b892fc5ebd1d",
      "b7090a6d64e744ecbb255bc4e0eea640",
      "f9ffd51e42644773b4fccdccbfb3693f",
      "81d481350dfe407bba19777d62a897f2",
      "39cef3999d334eadaa47ac213f4fd924",
      "f67b0163530f4775a550bc671ff5175b",
      "19f4d4d50f70495690fc5cb029b9eefc",
      "7b797acfe51a44319d354fefd2905dfb",
      "6f3e7fd1838341bf96bf735dd5250f48",
      "780d01efbde3428194828bd92def1fb7",
      "04d817245d94418cb934b7f78e7b104a",
      "d089b3e9d2844d5ab8d66b46352f2754",
      "86bbc7d87d99435695c55b94d05b72b6",
      "59bcebbb3c114067bbd2eeac1b0edb0d",
      "6143ed2492964f919d521e5088a3e443",
      "607d1df861c84f149b67cf03c0ab11ba",
      "fe4dea8335a249a6a3ca5134e44fa58d",
      "4705cd08cf7c4ed09b62656a48b33f29",
      "b709590cc40b4b4296dc00bd93a15fc9",
      "88014dcd253a42a5a895ec434dece10f",
      "161500812958471287695816bbf0ff77",
      "f05cc560c43a4440bf0414d0ffd24642",
      "bb09b8778d954086a99fe7df61f27a59",
      "68bd7e8739434131b888d0dc989e00e8",
      "0fd21b27af2244d594be3d9da112d0e8",
      "408bd2e4cdc24db2917cb6bced73b256",
      "448d623f66324960af09eba2e26bb7ff",
      "07366a429ae14f4cab09d4188d6fc3c7",
      "355e1f5843f444a8b12a332eae281523",
      "034b27c749d04c81bf024c6cf05bc659",
      "f119210a641549b7a1f8e962fbaf110a",
      "8850d66fbee5484e90cedf31c8807e39",
      "a7bdaf1a30dc4628a766ff6356f65dcd",
      "cb0bd9dabe8648b38359d58dbddb2610",
      "e88b5f61a5c94ba582e44ab5b35568bc",
      "49fc923c4a3a49e9b21fb509d5c5a3fa",
      "b15685205cb34fb39f96ffbcaf3af214",
      "c2f3fb3c051947519a450511ab00eb02",
      "6e5191f4f27540e2b30e721a37df04c9",
      "fed4b4871a524eea9210ed6a7b129db9"
     ]
    },
    "id": "fSVLJ5y_fes7",
    "outputId": "aac70556-adb4-4d49-b8da-7921e45afd2c"
   },
   "outputs": [],
   "source": [
    "## 🔐 Step 4b: downloading models weights to disk\n",
    "from huggingface_hub import hf_hub_download\n",
    "import os\n",
    "from transformers import pipeline\n",
    "\n",
    "model_id = \"facebook/bart-large-cnn\"\n",
    "cache_dir = \"./hf_cache\"  # custom cache folder\n",
    "\n",
    "# Download model weights manually (optional, pipeline does this automatically)\n",
    "config_path = hf_hub_download(repo_id=model_id, filename=\"config.json\", cache_dir=cache_dir)\n",
    "model_path = hf_hub_download(repo_id=model_id, filename=\"pytorch_model.bin\", cache_dir=cache_dir)\n",
    "tokenizer_path = hf_hub_download(repo_id=model_id, filename=\"tokenizer.json\", cache_dir=cache_dir)\n",
    "\n",
    "# Now you can load model from these local files with transformers pipeline\n",
    "summarizer_local = pipeline(\"summarization\", model=model_id)\n",
    "text = \"Hugging Face is amazing!\"\n",
    "print(\"Summary (from local cache):\", summarizer_local(text)[0]['summary_text'])"
   ]
  },
  {
   "cell_type": "code",
   "execution_count": null,
   "metadata": {
    "colab": {
     "base_uri": "https://localhost:8080/"
    },
    "id": "fHShgax6gBjm",
    "outputId": "55a178bf-5540-4b71-b154-dfed703ad26f"
   },
   "outputs": [],
   "source": [
    "print(f\"Config downloaded to: {config_path}\")\n",
    "print(f\"Model weights downloaded to: {model_path}\")\n",
    "print(f\"Tokenizer downloaded to: {tokenizer_path}\")"
   ]
  },
  {
   "cell_type": "code",
   "execution_count": null,
   "metadata": {
    "id": "OM6E1TFzFYeD"
   },
   "outputs": [],
   "source": []
  }
 ],
 "metadata": {
  "accelerator": "GPU",
  "colab": {
   "gpuType": "T4",
   "provenance": []
  },
  "kernelspec": {
   "display_name": "Python 3",
   "name": "python3"
  },
  "language_info": {
   "name": "python"
  }
 },
 "nbformat": 4,
 "nbformat_minor": 0
}
