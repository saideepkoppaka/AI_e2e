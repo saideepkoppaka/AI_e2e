{
 "cells": [
  {
   "cell_type": "markdown",
   "id": "6fb06ea8",
   "metadata": {},
   "source": [
    "# Predicting the Next Word: Historical Evolution of NLP\n",
    "\n",
    "This notebook walks through the evolution of NLP techniques for the task of predicting the **next word** in a sentence. We’ll build models from scratch using the following techniques:\n",
    "\n",
    "1. Basic Python and dictionaries\n",
    "2. Regex-based patterns\n",
    "3. N-gram language model\n",
    "\n",
    "Each section demonstrates how these techniques handle next-word prediction for a simple dataset and will train models **from scratch** without using any pre-trained tools.\n"
   ]
  },
  {
   "cell_type": "markdown",
   "id": "10a06ac1-967e-4d14-a04e-a38cc7af0c25",
   "metadata": {},
   "source": [
    "## predicting next word based on python"
   ]
  },
  {
   "cell_type": "code",
   "execution_count": 29,
   "id": "026c7643-61af-4bd2-a57d-6d9f0a274361",
   "metadata": {},
   "outputs": [
    {
     "name": "stdout",
     "output_type": "stream",
     "text": [
      "Input: 'the' ➜ Predicted next word: 'sun'\n",
      "Input: 'sun' ➜ Predicted next word: 'rises'\n",
      "Input: 'rises' ➜ Predicted next word: 'in'\n",
      "Input: 'in' ➜ Predicted next word: 'the'\n",
      "Input: 'the east' ➜ Predicted next word: 'and'\n",
      "Input: 'and' ➜ Predicted next word: 'sets'\n",
      "Input: 'sets' ➜ Predicted next word: 'in'\n",
      "Input: 'in the' ➜ Predicted next word: 'east'\n",
      "Input: 'the west' ➜ Predicted next word: '.'\n"
     ]
    }
   ],
   "source": [
    "def next_word_predictor(context):\n",
    "    if context == \"the\":\n",
    "        return \"sun\"\n",
    "    elif context == \"sun\":\n",
    "        return \"rises\"\n",
    "    elif context == \"rises\":\n",
    "        return \"in\"\n",
    "    elif context == \"in\":\n",
    "        return \"the\"\n",
    "    elif context == \"the east\":\n",
    "        return \"and\"\n",
    "    elif context == \"and\":\n",
    "        return \"sets\"\n",
    "    elif context == \"sets\":\n",
    "        return \"in\"\n",
    "    elif context == \"the west\":\n",
    "        return \".\"\n",
    "    elif context == \"in the\":\n",
    "        return \"east\"  # or later, \"west\" depending on position\n",
    "    else:\n",
    "        return \"unknown\"\n",
    "\n",
    "# Test the function\n",
    "contexts = [\"the\", \"sun\", \"rises\", \"in\", \"the east\", \"and\", \"sets\", \"in the\", \"the west\"]\n",
    "\n",
    "for c in contexts:\n",
    "    print(f\"Input: '{c}' ➜ Predicted next word: '{next_word_predictor(c)}'\")"
   ]
  },
  {
   "cell_type": "markdown",
   "id": "fe949e50-1fae-44d8-aae6-2ea13dc7d97c",
   "metadata": {},
   "source": [
    "## IVR"
   ]
  },
  {
   "cell_type": "code",
   "execution_count": 30,
   "id": "72883296-6039-4b1a-8f75-60fa547c4b83",
   "metadata": {},
   "outputs": [
    {
     "name": "stdout",
     "output_type": "stream",
     "text": [
      "Input: 1 ➜ Response: You selected Account Balance. Your balance is $2,540.\n",
      "Input: 2 ➜ Response: You selected Credit Card Services. Press 1 for Bill Payment, 2 for Card Lost.\n",
      "Input: 2-1 ➜ Response: You selected Bill Payment. Your due is $120, payable by June 15.\n",
      "Input: 2-2 ➜ Response: You selected Card Lost. A block request has been initiated.\n",
      "Input: 3 ➜ Response: Connecting you to a representative... Please wait.\n",
      "Input: 0 ➜ Response: Thank you for calling ABC Bank. Goodbye!\n",
      "Input: 9 ➜ Response: Invalid option. Please try again.\n"
     ]
    }
   ],
   "source": [
    "def ivr_system(user_input):\n",
    "    if user_input == \"1\":\n",
    "        return \"You selected Account Balance. Your balance is $2,540.\"\n",
    "    elif user_input == \"2\":\n",
    "        return \"You selected Credit Card Services. Press 1 for Bill Payment, 2 for Card Lost.\"\n",
    "    elif user_input == \"2-1\":\n",
    "        return \"You selected Bill Payment. Your due is $120, payable by June 15.\"\n",
    "    elif user_input == \"2-2\":\n",
    "        return \"You selected Card Lost. A block request has been initiated.\"\n",
    "    elif user_input == \"3\":\n",
    "        return \"Connecting you to a representative... Please wait.\"\n",
    "    elif user_input == \"0\":\n",
    "        return \"Thank you for calling ABC Bank. Goodbye!\"\n",
    "    else:\n",
    "        return \"Invalid option. Please try again.\"\n",
    "\n",
    "# 🧪 Simulate user input:\n",
    "inputs = [\"1\", \"2\", \"2-1\", \"2-2\", \"3\", \"0\", \"9\"]\n",
    "\n",
    "for i in inputs:\n",
    "    print(f\"Input: {i} ➜ Response: {ivr_system(i)}\")"
   ]
  },
  {
   "cell_type": "markdown",
   "id": "d9ac8a14-6411-4696-8602-6be549d9952a",
   "metadata": {},
   "source": [
    "## IVR advanced"
   ]
  },
  {
   "cell_type": "code",
   "execution_count": 32,
   "id": "d4abf298-45b3-465f-aa8b-6652ce859d8b",
   "metadata": {},
   "outputs": [
    {
     "name": "stdout",
     "output_type": "stream",
     "text": [
      "User: Can you tell me my balance?\n",
      "System: Your current balance is $2,540.\n",
      "\n",
      "User: I lost my card!\n",
      "System: Your card has been blocked. A new one will be issued.\n",
      "\n",
      "User: Tell me about your loan options\n",
      "System: We offer personal, home, and auto loans. Visit abc.com/loans.\n",
      "\n",
      "User: I want to speak to a human\n",
      "System: Connecting you to a representative... please wait.\n",
      "\n",
      "User: exit\n",
      "System: Thank you for calling ABC Bank. Have a great day!\n",
      "\n",
      "User: blargle foo\n",
      "System: Sorry, I didn’t catch that. Could you please repeat?\n",
      "\n"
     ]
    }
   ],
   "source": [
    "def keyword_ivr_system(user_input):\n",
    "    user_input = user_input.lower()\n",
    "\n",
    "    if \"balance\" in user_input:\n",
    "        return \"Your current balance is $2,540.\"\n",
    "    elif \"lost card\" in user_input or (\"lost\" in user_input and \"card\" in user_input):\n",
    "        return \"Your card has been blocked. A new one will be issued.\"\n",
    "    elif \"loan\" in user_input:\n",
    "        return \"We offer personal, home, and auto loans. Visit abc.com/loans.\"\n",
    "    elif \"representative\" in user_input or \"human\" in user_input:\n",
    "        return \"Connecting you to a representative... please wait.\"\n",
    "    elif \"exit\" in user_input or \"goodbye\" in user_input:\n",
    "        return \"Thank you for calling ABC Bank. Have a great day!\"\n",
    "    else:\n",
    "        return \"Sorry, I didn’t catch that. Could you please repeat?\"\n",
    "\n",
    "# 🧪 Test cases\n",
    "inputs = [\n",
    "    \"Can you tell me my balance?\",\n",
    "    \"I lost my card!\",\n",
    "    \"Tell me about your loan options\",\n",
    "    \"I want to speak to a human\",\n",
    "    \"exit\",\n",
    "    \"blargle foo\"\n",
    "]\n",
    "\n",
    "for i in inputs:\n",
    "    print(f\"User: {i}\\nSystem: {keyword_ivr_system(i)}\\n\")"
   ]
  },
  {
   "cell_type": "markdown",
   "id": "0c3d72ce-c7ec-4b88-b31e-8cd1b3c331ab",
   "metadata": {},
   "source": [
    "## using regex"
   ]
  },
  {
   "cell_type": "code",
   "execution_count": 33,
   "id": "a8732f0d",
   "metadata": {},
   "outputs": [
    {
     "name": "stdout",
     "output_type": "stream",
     "text": [
      "User: What’s my balance?\n",
      "System: Your current balance is $2,540.\n",
      "\n",
      "User: I think I lost my credit card yesterday\n",
      "System: Your card has been blocked. A new one will be issued.\n",
      "\n",
      "User: Tell me about your loans and interest rates\n",
      "System: We offer personal, home, and auto loans. Visit abc.com/loans.\n",
      "\n",
      "User: Can I speak to a human being?\n",
      "System: Connecting you to a representative... please wait.\n",
      "\n",
      "User: Okay goodbye\n",
      "System: Thank you for calling ABC Bank. Have a great day!\n",
      "\n",
      "User: What is foo bar?\n",
      "System: Sorry, I didn’t catch that. Could you please repeat?\n",
      "\n"
     ]
    }
   ],
   "source": [
    "import re\n",
    "\n",
    "def regex_ivr_system(user_input):\n",
    "    user_input = user_input.lower()\n",
    "\n",
    "    if re.search(r\"\\bbalance\\b\", user_input):\n",
    "        return \"Your current balance is $2,540.\"\n",
    "    \n",
    "    elif re.search(r\"lost.*card|card.*lost\", user_input):\n",
    "        return \"Your card has been blocked. A new one will be issued.\"\n",
    "    \n",
    "    elif re.search(r\"\\bloan(s)?\\b\", user_input):\n",
    "        return \"We offer personal, home, and auto loans. Visit abc.com/loans.\"\n",
    "    \n",
    "    elif re.search(r\"representative|human|agent\", user_input):\n",
    "        return \"Connecting you to a representative... please wait.\"\n",
    "    \n",
    "    elif re.search(r\"exit|goodbye|bye\", user_input):\n",
    "        return \"Thank you for calling ABC Bank. Have a great day!\"\n",
    "    \n",
    "    else:\n",
    "        return \"Sorry, I didn’t catch that. Could you please repeat?\"\n",
    "\n",
    "# 🧪 Test inputs\n",
    "inputs = [\n",
    "    \"What’s my balance?\",\n",
    "    \"I think I lost my credit card yesterday\",\n",
    "    \"Tell me about your loans and interest rates\",\n",
    "    \"Can I speak to a human being?\",\n",
    "    \"Okay goodbye\",\n",
    "    \"What is foo bar?\"\n",
    "]\n",
    "\n",
    "for i in inputs:\n",
    "    print(f\"User: {i}\\nSystem: {regex_ivr_system(i)}\\n\")"
   ]
  },
  {
   "cell_type": "markdown",
   "id": "2ad3ff24-c031-48a9-a99e-0bb9394eec6b",
   "metadata": {},
   "source": [
    "## Using Ngram language model"
   ]
  },
  {
   "cell_type": "code",
   "execution_count": 20,
   "id": "470b0c3f-069b-4420-bf98-024a5ee34249",
   "metadata": {},
   "outputs": [],
   "source": [
    "text = \"the sun rises in the east the sun sets in the west\""
   ]
  },
  {
   "cell_type": "code",
   "execution_count": 14,
   "id": "86482af8-32fd-4633-a23a-c1dbaf7c8359",
   "metadata": {},
   "outputs": [],
   "source": [
    "# Tokenize the sentence\n",
    "tokens = text.lower().split()"
   ]
  },
  {
   "cell_type": "code",
   "execution_count": 18,
   "id": "34943a4d-5524-4b0e-a8c7-0dff97a23d45",
   "metadata": {},
   "outputs": [],
   "source": [
    "from collections import defaultdict, Counter\n",
    "\n",
    "# Build bigram model\n",
    "bigram_model = defaultdict(Counter)"
   ]
  },
  {
   "cell_type": "code",
   "execution_count": 19,
   "id": "3e2119bb-7cf1-4a68-9000-41d0aefceb5e",
   "metadata": {},
   "outputs": [
    {
     "data": {
      "text/plain": [
       "defaultdict(collections.Counter, {})"
      ]
     },
     "execution_count": 19,
     "metadata": {},
     "output_type": "execute_result"
    }
   ],
   "source": [
    "bigram_model"
   ]
  },
  {
   "cell_type": "code",
   "execution_count": 20,
   "id": "bc08fef4-f104-4c9a-8f64-c7ca0e9429a9",
   "metadata": {},
   "outputs": [],
   "source": [
    "for i in range(len(tokens) - 1):\n",
    "    bigram_model[tokens[i]][tokens[i+1]] += 1"
   ]
  },
  {
   "cell_type": "code",
   "execution_count": 21,
   "id": "0536bf8c-9465-4513-b31b-3781692b07ac",
   "metadata": {},
   "outputs": [
    {
     "data": {
      "text/plain": [
       "defaultdict(collections.Counter,\n",
       "            {'the': Counter({'sun': 2, 'east': 1, 'west': 1}),\n",
       "             'sun': Counter({'rises': 1, 'sets': 1}),\n",
       "             'rises': Counter({'in': 1}),\n",
       "             'in': Counter({'the': 2}),\n",
       "             'east': Counter({'the': 1}),\n",
       "             'sets': Counter({'in': 1})})"
      ]
     },
     "execution_count": 21,
     "metadata": {},
     "output_type": "execute_result"
    }
   ],
   "source": [
    "bigram_model"
   ]
  },
  {
   "cell_type": "code",
   "execution_count": 22,
   "id": "b6afdb6a-08de-45b3-be92-0f953db989f9",
   "metadata": {},
   "outputs": [],
   "source": [
    "def predict_next_ngram(word):\n",
    "    if word in bigram_model:\n",
    "        return bigram_model[word].most_common(1)[0][0]\n",
    "    return \"\""
   ]
  },
  {
   "cell_type": "code",
   "execution_count": 27,
   "id": "33264a0e-6620-4ee9-8b09-bebd56e2a91f",
   "metadata": {},
   "outputs": [
    {
     "name": "stdout",
     "output_type": "stream",
     "text": [
      "Next word after 'in': the\n"
     ]
    }
   ],
   "source": [
    "print(\"Next word after 'in':\", predict_next_ngram(\"in\"))"
   ]
  },
  {
   "cell_type": "markdown",
   "id": "e2c61908-a2ca-4865-b225-919f6dd27595",
   "metadata": {},
   "source": []
  },
  {
   "cell_type": "code",
   "execution_count": null,
   "id": "ca8cd511-53e6-479e-b39b-d01d536ca49f",
   "metadata": {},
   "outputs": [],
   "source": []
  }
 ],
 "metadata": {
  "kernelspec": {
   "display_name": "python gen_ai",
   "language": "python",
   "name": "gen_ai"
  },
  "language_info": {
   "codemirror_mode": {
    "name": "ipython",
    "version": 3
   },
   "file_extension": ".py",
   "mimetype": "text/x-python",
   "name": "python",
   "nbconvert_exporter": "python",
   "pygments_lexer": "ipython3",
   "version": "3.12.7"
  }
 },
 "nbformat": 4,
 "nbformat_minor": 5
}
