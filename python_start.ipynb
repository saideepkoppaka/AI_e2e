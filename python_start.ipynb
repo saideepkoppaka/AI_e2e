{
 "cells": [
  {
   "cell_type": "markdown",
   "id": "b96e7ad3-ea62-4a31-a5c3-d8062b319f16",
   "metadata": {},
   "source": [
    "                           Why python???\n",
    "\n",
    "- Simple & Readable Syntax: Python's clean, human-readable code allows beginners and researchers to focus on ML/AI logic instead of low-level programming details.\n",
    "\n",
    "- Rich Ecosystem of Libraries: Popular libraries like NumPy, pandas, scikit-learn, TensorFlow, PyTorch, and Hugging Face Transformers simplify data processing, model building, and deployment.\n",
    "\n",
    "- Community & Resources: Python has a massive and active community contributing tutorials, tools, and frameworks, making it easier to learn and troubleshoot.\n",
    "\n",
    "- Integration with AI Frameworks: Most modern machine learning and generative AI frameworks are written in or support Python APIs.\n",
    "\n",
    "- Supports All Stages of ML Workflow: Python helps with data preprocessing, model training, evaluation, deployment, and even serving models via APIs or web apps (e.g., using FastAPI or Streamlit).\n",
    "\n",
    "- Backbone of Generative AI: Large language models (like ChatGPT, Stable Diffusion, etc.) are trained, fine-tuned, and deployed using Python-based libraries and tools.\n",
    "\n",
    "- Platform-Agnostic: Python works seamlessly across platforms (Windows, macOS, Linux) and integrates well with cloud services, GPUs, and distributed computing frameworks."
   ]
  },
  {
   "cell_type": "markdown",
   "id": "7aba4500-8017-4510-8ffa-aecdf1f04138",
   "metadata": {},
   "source": [
    "Hello world!"
   ]
  },
  {
   "cell_type": "code",
   "execution_count": 9,
   "id": "c606a70a-01da-46e2-a27d-0981f70145c3",
   "metadata": {},
   "outputs": [
    {
     "name": "stdout",
     "output_type": "stream",
     "text": [
      "Hello, World!\n"
     ]
    }
   ],
   "source": [
    "print(\"Hello, World!\")"
   ]
  },
  {
   "cell_type": "markdown",
   "id": "72290d96-c28c-49d5-9365-e88b61d458c4",
   "metadata": {},
   "source": [
    "python imports"
   ]
  },
  {
   "cell_type": "code",
   "execution_count": 10,
   "id": "403217ab-6500-4ab1-8d4b-e8b65e699601",
   "metadata": {},
   "outputs": [
    {
     "name": "stdout",
     "output_type": "stream",
     "text": [
      "Pi: 3.141592653589793\n",
      "Random integer: 9\n"
     ]
    }
   ],
   "source": [
    "import math  # Imports the entire math module\n",
    "from random import randint  # Only imports randint from random\n",
    "\n",
    "# Using math.pi\n",
    "print(\"Pi:\", math.pi)  # Output: 3.141592653589793\n",
    "\n",
    "# Using randint directly\n",
    "print(\"Random integer:\", randint(1, 10))  # Output: A random number between 1 and 10"
   ]
  },
  {
   "cell_type": "markdown",
   "id": "cab302a6-3a31-4819-bf1b-6d6faa959319",
   "metadata": {},
   "source": [
    "Python functions"
   ]
  },
  {
   "cell_type": "code",
   "execution_count": 11,
   "id": "3b11fdce-24a6-463e-903e-7274f730d943",
   "metadata": {},
   "outputs": [
    {
     "name": "stdout",
     "output_type": "stream",
     "text": [
      "Area of rectangle 1: 50\n",
      "Area of rectangle 2: 12\n"
     ]
    }
   ],
   "source": [
    "def calculate_area(width, height):\n",
    "    area = width * height\n",
    "    return area\n",
    "\n",
    "area1 = calculate_area(5, 10)\n",
    "print(\"Area of rectangle 1:\", area1)\n",
    "\n",
    "area2 = calculate_area(3, 4)\n",
    "print(\"Area of rectangle 2:\", area2)"
   ]
  },
  {
   "cell_type": "code",
   "execution_count": 12,
   "id": "6bd1fd17-1b9a-456d-984d-aed2532c8eb6",
   "metadata": {},
   "outputs": [
    {
     "name": "stdout",
     "output_type": "stream",
     "text": [
      "You are eligible to vote.\n",
      "You are not eligible to vote yet.\n"
     ]
    }
   ],
   "source": [
    "def check_voting_eligibility(age):\n",
    "    if age >= 18:\n",
    "        print(\"You are eligible to vote.\")\n",
    "    else:\n",
    "        print(\"You are not eligible to vote yet.\")\n",
    "\n",
    "check_voting_eligibility(20)  # Output: You are eligible to vote.\n",
    "check_voting_eligibility(16)  # Output: You are not eligible to vote yet."
   ]
  },
  {
   "cell_type": "code",
   "execution_count": 13,
   "id": "080a7d5f-28de-4cf6-ab9a-5747cfca99f7",
   "metadata": {},
   "outputs": [
    {
     "name": "stdout",
     "output_type": "stream",
     "text": [
      "3 is odd.\n",
      "6 is even.\n",
      "9 is odd.\n",
      "12 is even.\n",
      "15 is odd.\n"
     ]
    }
   ],
   "source": [
    "def check_even_odd_in_list(numbers):\n",
    "    for num in numbers:\n",
    "        if num % 2 == 0:\n",
    "            print(num, \"is even.\")\n",
    "        else:\n",
    "            print(num, \"is odd.\")\n",
    "\n",
    "my_list = [3, 6, 9, 12, 15]\n",
    "check_even_odd_in_list(my_list)"
   ]
  },
  {
   "cell_type": "markdown",
   "id": "af0f7e4d-6741-4396-9f56-43d5f0785b06",
   "metadata": {},
   "source": [
    "String manipulation in python"
   ]
  },
  {
   "cell_type": "code",
   "execution_count": 14,
   "id": "e0251276-9225-49be-89dc-7fa493bef508",
   "metadata": {},
   "outputs": [
    {
     "name": "stdout",
     "output_type": "stream",
     "text": [
      "13\n",
      "Hello, Python!\n",
      "Hello, world!\n",
      "Hello world Python is great\n",
      "Hello\n",
      "world!\n",
      "This is a string that is too long to fit on one line, so we continue it here without any breaks.\n",
      "This is a string\n",
      "that contains multiple lines,\n",
      "and we don't need to use a backslash.\n",
      "It also handles quotes, like \"this one\" and 'that one'.\n"
     ]
    }
   ],
   "source": [
    "text = \"Hello, world!\"\n",
    "print(len(text))  \n",
    "\n",
    "greeting = \"Hello, world!\"\n",
    "new_greeting = greeting.replace(\"world\", \"Python\")\n",
    "print(new_greeting) \n",
    "\n",
    "messy_text = \"   Hello, world!   \"\n",
    "clean_text = messy_text.strip()\n",
    "print(clean_text)  \n",
    "\n",
    "words = ['Hello', 'world', 'Python', 'is', 'great']\n",
    "sentence = \" \".join(words)\n",
    "print(sentence)\n",
    "\n",
    "text = \"Hello, world!\"\n",
    "print(text[0:5])   \n",
    "print(text[-6:])\n",
    "\n",
    "multi_line_string = \"This is a string that is too long to fit on one line, so we continue it \\\n",
    "here without any breaks.\"\n",
    "print(multi_line_string)\n",
    "\n",
    "multi_line_quote = \"\"\"This is a string\n",
    "that contains multiple lines,\n",
    "and we don't need to use a backslash.\n",
    "It also handles quotes, like \"this one\" and 'that one'.\"\"\"\n",
    "print(multi_line_quote)"
   ]
  },
  {
   "cell_type": "code",
   "execution_count": 15,
   "id": "aa01d26e-121a-45f2-9906-085c63b2f4b4",
   "metadata": {},
   "outputs": [
    {
     "name": "stdout",
     "output_type": "stream",
     "text": [
      "Hello, hello everyone!!\n"
     ]
    }
   ],
   "source": [
    "def greet(name):\n",
    "    \"\"\"\n",
    "    This function takes a name as input and returns a greeting string.\n",
    "\n",
    "    Parameters:\n",
    "    name (str): The name of the person to greet.\n",
    "\n",
    "    Returns:\n",
    "    str: A greeting message.\n",
    "    \"\"\"\n",
    "    return f\"Hello, {name}!\"\n",
    "\n",
    "final = greet(\"hello everyone!\")\n",
    "print(final)"
   ]
  },
  {
   "cell_type": "code",
   "execution_count": 16,
   "id": "d22605d0-5deb-4699-856f-86a89b75160d",
   "metadata": {},
   "outputs": [
    {
     "name": "stdout",
     "output_type": "stream",
     "text": [
      "Today’s date is May 15, 2025.\n"
     ]
    }
   ],
   "source": [
    "from datetime import datetime\n",
    "\n",
    "current_date = datetime.now()\n",
    "formatted_date = f\"Today’s date is {current_date:%B %d, %Y}.\"\n",
    "print(formatted_date)"
   ]
  },
  {
   "cell_type": "markdown",
   "id": "e566a195-6d3d-495a-8ee7-2f14c4c2a2d9",
   "metadata": {},
   "source": [
    "Python lists, dicts and sets"
   ]
  },
  {
   "cell_type": "code",
   "execution_count": 17,
   "id": "0d94c088-4fcd-4331-b579-aebf4eb2c528",
   "metadata": {},
   "outputs": [
    {
     "name": "stdout",
     "output_type": "stream",
     "text": [
      "apple\n",
      "banana\n",
      "['apple', 'banana', 'cherry', 'orange']\n",
      "['apple', 'cherry', 'orange']\n"
     ]
    }
   ],
   "source": [
    "# Creating a list of fruits\n",
    "fruits = [\"apple\", \"banana\", \"cherry\"]\n",
    "\n",
    "# Accessing items\n",
    "print(fruits[0])  # Output: apple\n",
    "print(fruits[1])  # Output: banana\n",
    "\n",
    "# Adding an item\n",
    "fruits.append(\"orange\")\n",
    "print(fruits)  # Output: ['apple', 'banana', 'cherry', 'orange']\n",
    "\n",
    "# Removing an item\n",
    "fruits.remove(\"banana\")\n",
    "print(fruits)  # Output: ['apple', 'cherry', 'orange']"
   ]
  },
  {
   "cell_type": "code",
   "execution_count": 18,
   "id": "208d3521-524d-4e45-92a5-083dc0e93814",
   "metadata": {},
   "outputs": [
    {
     "name": "stdout",
     "output_type": "stream",
     "text": [
      "Sam\n",
      "25\n"
     ]
    }
   ],
   "source": [
    "# Creating a dictionary with some information about a person\n",
    "person = {\n",
    "    \"name\": \"Sam\",\n",
    "    \"age\": 25,\n",
    "    \"city\": \"Chicago\"\n",
    "}\n",
    "\n",
    "# Accessing values by key\n",
    "print(person[\"name\"])  \n",
    "print(person[\"age\"])  \n"
   ]
  },
  {
   "cell_type": "code",
   "execution_count": 19,
   "id": "ad0456d1-878a-49df-b2b0-f5282e0cdf43",
   "metadata": {},
   "outputs": [
    {
     "name": "stdout",
     "output_type": "stream",
     "text": [
      "{'name': 'Sam', 'age': 25, 'city': 'Chicago', 'job': 'Engineer'}\n",
      "{'name': 'Sam', 'age': 25, 'city': 'San Francisco', 'job': 'Engineer'}\n",
      "Sam\n",
      "None\n",
      "USA\n"
     ]
    }
   ],
   "source": [
    "# Adding a new key-value pair\n",
    "person[\"job\"] = \"Engineer\"\n",
    "print(person)  \n",
    "# Changing a value\n",
    "person[\"city\"] = \"San Francisco\"\n",
    "print(person)  \n",
    "print(person.get(\"name\")) \n",
    "print(person.get(\"country\"))  \n",
    "\n",
    "# Using get() with a default value\n",
    "print(person.get(\"country\", \"USA\"))"
   ]
  },
  {
   "cell_type": "code",
   "execution_count": 20,
   "id": "b8d040f3-99bd-4172-99e4-351672cc0d67",
   "metadata": {},
   "outputs": [
    {
     "name": "stdout",
     "output_type": "stream",
     "text": [
      "{'green', 'yellow', 'blue', 'red'}\n",
      "{'green', 'yellow', 'blue', 'red'}\n",
      "{'yellow', 'blue', 'red'}\n"
     ]
    }
   ],
   "source": [
    "# Creating a set of colors\n",
    "# sets\n",
    "colors = {\"red\", \"green\", \"blue\"}\n",
    "\n",
    "# Adding an item\n",
    "colors.add(\"yellow\")\n",
    "print(colors)  # Output: {'red', 'green', 'blue', 'yellow'}\n",
    "\n",
    "# Trying to add a duplicate item\n",
    "colors.add(\"red\")\n",
    "print(colors)  # Output: {'red', 'green', 'blue', 'yellow'} (no duplicate)\n",
    "\n",
    "# Removing an item\n",
    "colors.remove(\"green\")\n",
    "print(colors)  # Output: {'red', 'blue', 'yellow'}"
   ]
  },
  {
   "cell_type": "markdown",
   "id": "4ee1312f-c38b-41c1-8d41-62f7f2ac644b",
   "metadata": {},
   "source": [
    "Python classes (most important)"
   ]
  },
  {
   "cell_type": "code",
   "execution_count": 21,
   "id": "0f6d5c90-b6a2-4e46-bf88-c3a91afde1ee",
   "metadata": {},
   "outputs": [
    {
     "name": "stdout",
     "output_type": "stream",
     "text": [
      "2021 Toyota Camry\n",
      "The engine of the Camry is now running.\n"
     ]
    }
   ],
   "source": [
    "class Car:\n",
    "    def __init__(self, make, model, year):\n",
    "        self.make = make\n",
    "        self.model = model\n",
    "        self.year = year\n",
    "\n",
    "    def description(self):\n",
    "        return f\"{self.year} {self.make} {self.model}\"\n",
    "\n",
    "    def start_engine(self):\n",
    "        print(f\"The engine of the {self.model} is now running.\")\n",
    "\n",
    "# Creating a Car object\n",
    "my_car = Car(\"Toyota\", \"Camry\", 2021)\n",
    "\n",
    "# Accessing attributes and calling methods\n",
    "print(my_car.description())  # Output: 2021 Toyota Camry\n",
    "my_car.start_engine()        # Output: The engine of the Camry is now running.\n"
   ]
  },
  {
   "cell_type": "code",
   "execution_count": 23,
   "id": "618ea4cb-f81a-4af4-b30c-276a28dc9a8c",
   "metadata": {},
   "outputs": [
    {
     "name": "stdout",
     "output_type": "stream",
     "text": [
      "2021 Toyota Camry\n",
      "The engine of the Camry is now running.\n",
      "\n",
      "2024 Tesla Model 3\n",
      "Model 3 doesn't have a traditional engine. It starts silently!\n",
      "This Model 3 has a 75-kWh battery.\n"
     ]
    }
   ],
   "source": [
    "# Derived class (inherits from Car)\n",
    "class ElectricCar(Car):\n",
    "    def __init__(self, make, model, year, battery_size):\n",
    "        # Call the parent class's __init__ method\n",
    "        super().__init__(make, model, year)\n",
    "        # Add a new attribute\n",
    "        self.battery_size = battery_size\n",
    "\n",
    "    def describe_battery(self):\n",
    "        print(f\"This {self.model} has a {self.battery_size}-kWh battery.\")\n",
    "\n",
    "    # Optionally, override a method from the parent class\n",
    "    def start_engine(self):\n",
    "        print(f\"{self.model} doesn't have a traditional engine. It starts silently!\")\n",
    "\n",
    "# Create a regular car object\n",
    "my_car = Car(\"Toyota\", \"Camry\", 2021)\n",
    "print(my_car.description())       # Output: 2021 Toyota Camry\n",
    "my_car.start_engine()             # Output: The engine of the Camry is now running.\n",
    "\n",
    "print(\"\")\n",
    "\n",
    "# Create an electric car object\n",
    "my_tesla = ElectricCar(\"Tesla\", \"Model 3\", 2024, 75)\n",
    "print(my_tesla.description())     # Output: 2024 Tesla Model 3\n",
    "my_tesla.start_engine()           # Output: Model 3 doesn't have a traditional engine. It starts silently!\n",
    "my_tesla.describe_battery()       # Output: This Model 3 has a 75-kWh battery."
   ]
  },
  {
   "cell_type": "markdown",
   "id": "1d4366bc-575e-4eea-b8e5-f65e4962a3fa",
   "metadata": {},
   "source": [
    "list comprehension"
   ]
  },
  {
   "cell_type": "code",
   "execution_count": 24,
   "id": "4e00f531-1702-4b80-ac46-e4614ff3072e",
   "metadata": {},
   "outputs": [
    {
     "name": "stdout",
     "output_type": "stream",
     "text": [
      "[0, 4, 16, 36, 64]\n"
     ]
    }
   ],
   "source": [
    "even_squares = [i ** 2 for i in range(10) if i % 2 == 0]\n",
    "print(even_squares)  # Output: [0, 4, 16, 36, 64]"
   ]
  },
  {
   "cell_type": "markdown",
   "id": "8a0e4225-6d62-4eca-8cdc-ec758fd0ef8b",
   "metadata": {},
   "source": [
    "dictionary comprehension"
   ]
  },
  {
   "cell_type": "code",
   "execution_count": 25,
   "id": "ad216977-e13f-4d1a-83fc-063fa785ced5",
   "metadata": {},
   "outputs": [
    {
     "name": "stdout",
     "output_type": "stream",
     "text": [
      "{1: 1, 3: 9, 5: 25}\n"
     ]
    }
   ],
   "source": [
    "odd_squares = {i: i ** 2 for i in range(1, 6) if i % 2 != 0}\n",
    "print(odd_squares)  # Output: {1: 1, 3: 9, 5: 25}"
   ]
  },
  {
   "cell_type": "markdown",
   "id": "9c3cec4b-c1ab-4588-b92d-0ed8ec50ae06",
   "metadata": {},
   "source": [
    "decorators"
   ]
  },
  {
   "cell_type": "code",
   "execution_count": 26,
   "id": "0af44e8f-4cb3-4d25-9d9a-8b022bdf5087",
   "metadata": {},
   "outputs": [
    {
     "name": "stdout",
     "output_type": "stream",
     "text": [
      "14\n"
     ]
    }
   ],
   "source": [
    "# Define the decorator\n",
    "def double_result(func):\n",
    "    def wrapper(a, b):\n",
    "        result = func(a, b)\n",
    "        return result * 2\n",
    "    return wrapper\n",
    "\n",
    "# Use the decorator on a simple add function\n",
    "@double_result\n",
    "def add(a, b):\n",
    "    return a + b\n",
    "\n",
    "# Test it\n",
    "print(add(3, 4))  # Output: 14 (because 3 + 4 = 7, then 7 * 2 = 14)"
   ]
  },
  {
   "cell_type": "code",
   "execution_count": 27,
   "id": "9f06fd57-532b-47c4-9a70-44b6b69f95d6",
   "metadata": {},
   "outputs": [
    {
     "name": "stdout",
     "output_type": "stream",
     "text": [
      "Execution time: 2.0050 seconds\n",
      "Result: 30\n"
     ]
    }
   ],
   "source": [
    "import time\n",
    "\n",
    "# Define the timing decorator\n",
    "def timer(func):\n",
    "    def wrapper(*args, **kwargs):\n",
    "        start_time = time.time()            # Record start time\n",
    "        result = func(*args, **kwargs)      # Call the actual function\n",
    "        end_time = time.time()              # Record end time\n",
    "        print(f\"Execution time: {end_time - start_time:.4f} seconds\")\n",
    "        return result\n",
    "    return wrapper\n",
    "\n",
    "# Use the decorator\n",
    "@timer\n",
    "def slow_addition(a, b):\n",
    "    time.sleep(2)  # Simulate a slow operation (e.g., a long computation)\n",
    "    return a + b\n",
    "\n",
    "# Call the function\n",
    "print(\"Result:\", slow_addition(10, 20))"
   ]
  },
  {
   "cell_type": "markdown",
   "id": "dc29479c-1410-4acc-bd88-ab9e2dd06ba9",
   "metadata": {},
   "source": [
    "Generators"
   ]
  },
  {
   "cell_type": "code",
   "execution_count": 30,
   "id": "f8ed1579-c992-4fe0-99dc-9e1cd440f478",
   "metadata": {},
   "outputs": [
    {
     "name": "stdout",
     "output_type": "stream",
     "text": [
      "Even numbers up to 10:\n",
      "0\n",
      "2\n",
      "4\n",
      "6\n",
      "8\n",
      "10\n"
     ]
    }
   ],
   "source": [
    "def even_numbers(n):\n",
    "    for i in range(n + 1):\n",
    "        if i % 2 == 0:\n",
    "            yield i  # yield gives one number at a time\n",
    "\n",
    "print(\"Even numbers up to 10:\")\n",
    "for num in even_numbers(10):\n",
    "    print(num)"
   ]
  },
  {
   "cell_type": "code",
   "execution_count": null,
   "id": "40aa2d45-4a9c-4f4b-9cb0-3a570b9d9aae",
   "metadata": {},
   "outputs": [],
   "source": [
    "def even_numbers_list(n):\n",
    "    result = []\n",
    "    for i in range(n + 1):\n",
    "        if i % 2 == 0:\n",
    "            result.append(i)\n",
    "    return result\n",
    "\n",
    "print(even_numbers_list(10))  # Output: [0, 2, 4, 6, 8, 10]"
   ]
  },
  {
   "cell_type": "code",
   "execution_count": null,
   "id": "42f5caec-46fa-4e47-b1a5-513f62546319",
   "metadata": {},
   "outputs": [],
   "source": []
  }
 ],
 "metadata": {
  "kernelspec": {
   "display_name": "Python 3 (ipykernel)",
   "language": "python",
   "name": "python3"
  },
  "language_info": {
   "codemirror_mode": {
    "name": "ipython",
    "version": 3
   },
   "file_extension": ".py",
   "mimetype": "text/x-python",
   "name": "python",
   "nbconvert_exporter": "python",
   "pygments_lexer": "ipython3",
   "version": "3.12.7"
  }
 },
 "nbformat": 4,
 "nbformat_minor": 5
}
