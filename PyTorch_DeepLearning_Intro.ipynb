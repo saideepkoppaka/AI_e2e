{
 "cells": [
  {
   "cell_type": "markdown",
   "id": "92f57388",
   "metadata": {},
   "source": [
    "# 🧠 Introduction to Deep Learning with PyTorch\n",
    "\n",
    "In this notebook, we’ll walk through the process of building a simple neural network from scratch using PyTorch.\n",
    "\n",
    "### 📌 Concepts Covered:\n",
    "- Tensors and DataLoader\n",
    "- Neural Network layers and architecture\n",
    "- Activation functions\n",
    "- Loss functions\n",
    "- Optimizers\n",
    "- Training loop with batch size and epochs\n",
    "- Regularization (L2)\n",
    "- Evaluation and accuracy\n",
    "\n",
    "We'll use the **Iris dataset** for simplicity."
   ]
  },
  {
   "cell_type": "code",
   "execution_count": 1,
   "id": "e527f398",
   "metadata": {},
   "outputs": [],
   "source": [
    "# 📦 Imports\n",
    "import torch\n",
    "import torch.nn as nn\n",
    "import torch.optim as optim\n",
    "from torch.utils.data import DataLoader, TensorDataset\n",
    "from sklearn.datasets import load_iris\n",
    "from sklearn.model_selection import train_test_split\n",
    "from sklearn.preprocessing import StandardScaler\n",
    "import matplotlib.pyplot as plt\n",
    "import numpy as np\n",
    "import seaborn as sns\n",
    "sns.set(style='whitegrid')"
   ]
  },
  {
   "cell_type": "markdown",
   "id": "64977a4a",
   "metadata": {},
   "source": [
    "## 📥 Load and Prepare the Data"
   ]
  },
  {
   "cell_type": "code",
   "execution_count": 2,
   "id": "3180a7c7-2dad-4f38-8429-fe56df337d7c",
   "metadata": {},
   "outputs": [],
   "source": [
    "# Load Iris dataset\n",
    "data = load_iris()\n",
    "X = data.data\n",
    "y = data.target"
   ]
  },
  {
   "cell_type": "code",
   "execution_count": 23,
   "id": "28602830-dd24-4c30-9ae8-aa2e79c1db0c",
   "metadata": {},
   "outputs": [
    {
     "name": "stdout",
     "output_type": "stream",
     "text": [
      "150 150\n"
     ]
    }
   ],
   "source": [
    "print(len(X), len(y))"
   ]
  },
  {
   "cell_type": "code",
   "execution_count": 5,
   "id": "de32eeed-7ef8-4c11-a6c1-e9c5f5cbe1aa",
   "metadata": {},
   "outputs": [
    {
     "data": {
      "text/plain": [
       "array([[5.1, 3.5, 1.4, 0.2],\n",
       "       [4.9, 3. , 1.4, 0.2],\n",
       "       [4.7, 3.2, 1.3, 0.2],\n",
       "       [4.6, 3.1, 1.5, 0.2]])"
      ]
     },
     "execution_count": 5,
     "metadata": {},
     "output_type": "execute_result"
    }
   ],
   "source": [
    "X[0:4]"
   ]
  },
  {
   "cell_type": "code",
   "execution_count": 8,
   "id": "0670c4a1-dea1-478c-8e55-e6a254e05f73",
   "metadata": {},
   "outputs": [
    {
     "data": {
      "text/plain": [
       "array([0, 0, 0, 0])"
      ]
     },
     "execution_count": 8,
     "metadata": {},
     "output_type": "execute_result"
    }
   ],
   "source": [
    "y[0:4]"
   ]
  },
  {
   "cell_type": "code",
   "execution_count": 9,
   "id": "5f87c74c-1413-4516-8fa0-dc9d71a6a72c",
   "metadata": {},
   "outputs": [],
   "source": [
    "# Train-test split\n",
    "X_train, X_test, y_train, y_test = train_test_split(X, y, test_size=0.2, random_state=42)"
   ]
  },
  {
   "cell_type": "code",
   "execution_count": 10,
   "id": "caf56c73-e2a2-4e54-8e94-507039238a16",
   "metadata": {},
   "outputs": [],
   "source": [
    "# Standardize features\n",
    "scaler = StandardScaler()\n",
    "X_train = scaler.fit_transform(X_train)\n",
    "X_test = scaler.transform(X_test)"
   ]
  },
  {
   "cell_type": "code",
   "execution_count": 11,
   "id": "eb599e80-8f41-476c-873f-760fe08d6f94",
   "metadata": {},
   "outputs": [
    {
     "data": {
      "text/html": [
       "<style>#sk-container-id-1 {\n",
       "  /* Definition of color scheme common for light and dark mode */\n",
       "  --sklearn-color-text: #000;\n",
       "  --sklearn-color-text-muted: #666;\n",
       "  --sklearn-color-line: gray;\n",
       "  /* Definition of color scheme for unfitted estimators */\n",
       "  --sklearn-color-unfitted-level-0: #fff5e6;\n",
       "  --sklearn-color-unfitted-level-1: #f6e4d2;\n",
       "  --sklearn-color-unfitted-level-2: #ffe0b3;\n",
       "  --sklearn-color-unfitted-level-3: chocolate;\n",
       "  /* Definition of color scheme for fitted estimators */\n",
       "  --sklearn-color-fitted-level-0: #f0f8ff;\n",
       "  --sklearn-color-fitted-level-1: #d4ebff;\n",
       "  --sklearn-color-fitted-level-2: #b3dbfd;\n",
       "  --sklearn-color-fitted-level-3: cornflowerblue;\n",
       "\n",
       "  /* Specific color for light theme */\n",
       "  --sklearn-color-text-on-default-background: var(--sg-text-color, var(--theme-code-foreground, var(--jp-content-font-color1, black)));\n",
       "  --sklearn-color-background: var(--sg-background-color, var(--theme-background, var(--jp-layout-color0, white)));\n",
       "  --sklearn-color-border-box: var(--sg-text-color, var(--theme-code-foreground, var(--jp-content-font-color1, black)));\n",
       "  --sklearn-color-icon: #696969;\n",
       "\n",
       "  @media (prefers-color-scheme: dark) {\n",
       "    /* Redefinition of color scheme for dark theme */\n",
       "    --sklearn-color-text-on-default-background: var(--sg-text-color, var(--theme-code-foreground, var(--jp-content-font-color1, white)));\n",
       "    --sklearn-color-background: var(--sg-background-color, var(--theme-background, var(--jp-layout-color0, #111)));\n",
       "    --sklearn-color-border-box: var(--sg-text-color, var(--theme-code-foreground, var(--jp-content-font-color1, white)));\n",
       "    --sklearn-color-icon: #878787;\n",
       "  }\n",
       "}\n",
       "\n",
       "#sk-container-id-1 {\n",
       "  color: var(--sklearn-color-text);\n",
       "}\n",
       "\n",
       "#sk-container-id-1 pre {\n",
       "  padding: 0;\n",
       "}\n",
       "\n",
       "#sk-container-id-1 input.sk-hidden--visually {\n",
       "  border: 0;\n",
       "  clip: rect(1px 1px 1px 1px);\n",
       "  clip: rect(1px, 1px, 1px, 1px);\n",
       "  height: 1px;\n",
       "  margin: -1px;\n",
       "  overflow: hidden;\n",
       "  padding: 0;\n",
       "  position: absolute;\n",
       "  width: 1px;\n",
       "}\n",
       "\n",
       "#sk-container-id-1 div.sk-dashed-wrapped {\n",
       "  border: 1px dashed var(--sklearn-color-line);\n",
       "  margin: 0 0.4em 0.5em 0.4em;\n",
       "  box-sizing: border-box;\n",
       "  padding-bottom: 0.4em;\n",
       "  background-color: var(--sklearn-color-background);\n",
       "}\n",
       "\n",
       "#sk-container-id-1 div.sk-container {\n",
       "  /* jupyter's `normalize.less` sets `[hidden] { display: none; }`\n",
       "     but bootstrap.min.css set `[hidden] { display: none !important; }`\n",
       "     so we also need the `!important` here to be able to override the\n",
       "     default hidden behavior on the sphinx rendered scikit-learn.org.\n",
       "     See: https://github.com/scikit-learn/scikit-learn/issues/21755 */\n",
       "  display: inline-block !important;\n",
       "  position: relative;\n",
       "}\n",
       "\n",
       "#sk-container-id-1 div.sk-text-repr-fallback {\n",
       "  display: none;\n",
       "}\n",
       "\n",
       "div.sk-parallel-item,\n",
       "div.sk-serial,\n",
       "div.sk-item {\n",
       "  /* draw centered vertical line to link estimators */\n",
       "  background-image: linear-gradient(var(--sklearn-color-text-on-default-background), var(--sklearn-color-text-on-default-background));\n",
       "  background-size: 2px 100%;\n",
       "  background-repeat: no-repeat;\n",
       "  background-position: center center;\n",
       "}\n",
       "\n",
       "/* Parallel-specific style estimator block */\n",
       "\n",
       "#sk-container-id-1 div.sk-parallel-item::after {\n",
       "  content: \"\";\n",
       "  width: 100%;\n",
       "  border-bottom: 2px solid var(--sklearn-color-text-on-default-background);\n",
       "  flex-grow: 1;\n",
       "}\n",
       "\n",
       "#sk-container-id-1 div.sk-parallel {\n",
       "  display: flex;\n",
       "  align-items: stretch;\n",
       "  justify-content: center;\n",
       "  background-color: var(--sklearn-color-background);\n",
       "  position: relative;\n",
       "}\n",
       "\n",
       "#sk-container-id-1 div.sk-parallel-item {\n",
       "  display: flex;\n",
       "  flex-direction: column;\n",
       "}\n",
       "\n",
       "#sk-container-id-1 div.sk-parallel-item:first-child::after {\n",
       "  align-self: flex-end;\n",
       "  width: 50%;\n",
       "}\n",
       "\n",
       "#sk-container-id-1 div.sk-parallel-item:last-child::after {\n",
       "  align-self: flex-start;\n",
       "  width: 50%;\n",
       "}\n",
       "\n",
       "#sk-container-id-1 div.sk-parallel-item:only-child::after {\n",
       "  width: 0;\n",
       "}\n",
       "\n",
       "/* Serial-specific style estimator block */\n",
       "\n",
       "#sk-container-id-1 div.sk-serial {\n",
       "  display: flex;\n",
       "  flex-direction: column;\n",
       "  align-items: center;\n",
       "  background-color: var(--sklearn-color-background);\n",
       "  padding-right: 1em;\n",
       "  padding-left: 1em;\n",
       "}\n",
       "\n",
       "\n",
       "/* Toggleable style: style used for estimator/Pipeline/ColumnTransformer box that is\n",
       "clickable and can be expanded/collapsed.\n",
       "- Pipeline and ColumnTransformer use this feature and define the default style\n",
       "- Estimators will overwrite some part of the style using the `sk-estimator` class\n",
       "*/\n",
       "\n",
       "/* Pipeline and ColumnTransformer style (default) */\n",
       "\n",
       "#sk-container-id-1 div.sk-toggleable {\n",
       "  /* Default theme specific background. It is overwritten whether we have a\n",
       "  specific estimator or a Pipeline/ColumnTransformer */\n",
       "  background-color: var(--sklearn-color-background);\n",
       "}\n",
       "\n",
       "/* Toggleable label */\n",
       "#sk-container-id-1 label.sk-toggleable__label {\n",
       "  cursor: pointer;\n",
       "  display: flex;\n",
       "  width: 100%;\n",
       "  margin-bottom: 0;\n",
       "  padding: 0.5em;\n",
       "  box-sizing: border-box;\n",
       "  text-align: center;\n",
       "  align-items: start;\n",
       "  justify-content: space-between;\n",
       "  gap: 0.5em;\n",
       "}\n",
       "\n",
       "#sk-container-id-1 label.sk-toggleable__label .caption {\n",
       "  font-size: 0.6rem;\n",
       "  font-weight: lighter;\n",
       "  color: var(--sklearn-color-text-muted);\n",
       "}\n",
       "\n",
       "#sk-container-id-1 label.sk-toggleable__label-arrow:before {\n",
       "  /* Arrow on the left of the label */\n",
       "  content: \"▸\";\n",
       "  float: left;\n",
       "  margin-right: 0.25em;\n",
       "  color: var(--sklearn-color-icon);\n",
       "}\n",
       "\n",
       "#sk-container-id-1 label.sk-toggleable__label-arrow:hover:before {\n",
       "  color: var(--sklearn-color-text);\n",
       "}\n",
       "\n",
       "/* Toggleable content - dropdown */\n",
       "\n",
       "#sk-container-id-1 div.sk-toggleable__content {\n",
       "  max-height: 0;\n",
       "  max-width: 0;\n",
       "  overflow: hidden;\n",
       "  text-align: left;\n",
       "  /* unfitted */\n",
       "  background-color: var(--sklearn-color-unfitted-level-0);\n",
       "}\n",
       "\n",
       "#sk-container-id-1 div.sk-toggleable__content.fitted {\n",
       "  /* fitted */\n",
       "  background-color: var(--sklearn-color-fitted-level-0);\n",
       "}\n",
       "\n",
       "#sk-container-id-1 div.sk-toggleable__content pre {\n",
       "  margin: 0.2em;\n",
       "  border-radius: 0.25em;\n",
       "  color: var(--sklearn-color-text);\n",
       "  /* unfitted */\n",
       "  background-color: var(--sklearn-color-unfitted-level-0);\n",
       "}\n",
       "\n",
       "#sk-container-id-1 div.sk-toggleable__content.fitted pre {\n",
       "  /* unfitted */\n",
       "  background-color: var(--sklearn-color-fitted-level-0);\n",
       "}\n",
       "\n",
       "#sk-container-id-1 input.sk-toggleable__control:checked~div.sk-toggleable__content {\n",
       "  /* Expand drop-down */\n",
       "  max-height: 200px;\n",
       "  max-width: 100%;\n",
       "  overflow: auto;\n",
       "}\n",
       "\n",
       "#sk-container-id-1 input.sk-toggleable__control:checked~label.sk-toggleable__label-arrow:before {\n",
       "  content: \"▾\";\n",
       "}\n",
       "\n",
       "/* Pipeline/ColumnTransformer-specific style */\n",
       "\n",
       "#sk-container-id-1 div.sk-label input.sk-toggleable__control:checked~label.sk-toggleable__label {\n",
       "  color: var(--sklearn-color-text);\n",
       "  background-color: var(--sklearn-color-unfitted-level-2);\n",
       "}\n",
       "\n",
       "#sk-container-id-1 div.sk-label.fitted input.sk-toggleable__control:checked~label.sk-toggleable__label {\n",
       "  background-color: var(--sklearn-color-fitted-level-2);\n",
       "}\n",
       "\n",
       "/* Estimator-specific style */\n",
       "\n",
       "/* Colorize estimator box */\n",
       "#sk-container-id-1 div.sk-estimator input.sk-toggleable__control:checked~label.sk-toggleable__label {\n",
       "  /* unfitted */\n",
       "  background-color: var(--sklearn-color-unfitted-level-2);\n",
       "}\n",
       "\n",
       "#sk-container-id-1 div.sk-estimator.fitted input.sk-toggleable__control:checked~label.sk-toggleable__label {\n",
       "  /* fitted */\n",
       "  background-color: var(--sklearn-color-fitted-level-2);\n",
       "}\n",
       "\n",
       "#sk-container-id-1 div.sk-label label.sk-toggleable__label,\n",
       "#sk-container-id-1 div.sk-label label {\n",
       "  /* The background is the default theme color */\n",
       "  color: var(--sklearn-color-text-on-default-background);\n",
       "}\n",
       "\n",
       "/* On hover, darken the color of the background */\n",
       "#sk-container-id-1 div.sk-label:hover label.sk-toggleable__label {\n",
       "  color: var(--sklearn-color-text);\n",
       "  background-color: var(--sklearn-color-unfitted-level-2);\n",
       "}\n",
       "\n",
       "/* Label box, darken color on hover, fitted */\n",
       "#sk-container-id-1 div.sk-label.fitted:hover label.sk-toggleable__label.fitted {\n",
       "  color: var(--sklearn-color-text);\n",
       "  background-color: var(--sklearn-color-fitted-level-2);\n",
       "}\n",
       "\n",
       "/* Estimator label */\n",
       "\n",
       "#sk-container-id-1 div.sk-label label {\n",
       "  font-family: monospace;\n",
       "  font-weight: bold;\n",
       "  display: inline-block;\n",
       "  line-height: 1.2em;\n",
       "}\n",
       "\n",
       "#sk-container-id-1 div.sk-label-container {\n",
       "  text-align: center;\n",
       "}\n",
       "\n",
       "/* Estimator-specific */\n",
       "#sk-container-id-1 div.sk-estimator {\n",
       "  font-family: monospace;\n",
       "  border: 1px dotted var(--sklearn-color-border-box);\n",
       "  border-radius: 0.25em;\n",
       "  box-sizing: border-box;\n",
       "  margin-bottom: 0.5em;\n",
       "  /* unfitted */\n",
       "  background-color: var(--sklearn-color-unfitted-level-0);\n",
       "}\n",
       "\n",
       "#sk-container-id-1 div.sk-estimator.fitted {\n",
       "  /* fitted */\n",
       "  background-color: var(--sklearn-color-fitted-level-0);\n",
       "}\n",
       "\n",
       "/* on hover */\n",
       "#sk-container-id-1 div.sk-estimator:hover {\n",
       "  /* unfitted */\n",
       "  background-color: var(--sklearn-color-unfitted-level-2);\n",
       "}\n",
       "\n",
       "#sk-container-id-1 div.sk-estimator.fitted:hover {\n",
       "  /* fitted */\n",
       "  background-color: var(--sklearn-color-fitted-level-2);\n",
       "}\n",
       "\n",
       "/* Specification for estimator info (e.g. \"i\" and \"?\") */\n",
       "\n",
       "/* Common style for \"i\" and \"?\" */\n",
       "\n",
       ".sk-estimator-doc-link,\n",
       "a:link.sk-estimator-doc-link,\n",
       "a:visited.sk-estimator-doc-link {\n",
       "  float: right;\n",
       "  font-size: smaller;\n",
       "  line-height: 1em;\n",
       "  font-family: monospace;\n",
       "  background-color: var(--sklearn-color-background);\n",
       "  border-radius: 1em;\n",
       "  height: 1em;\n",
       "  width: 1em;\n",
       "  text-decoration: none !important;\n",
       "  margin-left: 0.5em;\n",
       "  text-align: center;\n",
       "  /* unfitted */\n",
       "  border: var(--sklearn-color-unfitted-level-1) 1pt solid;\n",
       "  color: var(--sklearn-color-unfitted-level-1);\n",
       "}\n",
       "\n",
       ".sk-estimator-doc-link.fitted,\n",
       "a:link.sk-estimator-doc-link.fitted,\n",
       "a:visited.sk-estimator-doc-link.fitted {\n",
       "  /* fitted */\n",
       "  border: var(--sklearn-color-fitted-level-1) 1pt solid;\n",
       "  color: var(--sklearn-color-fitted-level-1);\n",
       "}\n",
       "\n",
       "/* On hover */\n",
       "div.sk-estimator:hover .sk-estimator-doc-link:hover,\n",
       ".sk-estimator-doc-link:hover,\n",
       "div.sk-label-container:hover .sk-estimator-doc-link:hover,\n",
       ".sk-estimator-doc-link:hover {\n",
       "  /* unfitted */\n",
       "  background-color: var(--sklearn-color-unfitted-level-3);\n",
       "  color: var(--sklearn-color-background);\n",
       "  text-decoration: none;\n",
       "}\n",
       "\n",
       "div.sk-estimator.fitted:hover .sk-estimator-doc-link.fitted:hover,\n",
       ".sk-estimator-doc-link.fitted:hover,\n",
       "div.sk-label-container:hover .sk-estimator-doc-link.fitted:hover,\n",
       ".sk-estimator-doc-link.fitted:hover {\n",
       "  /* fitted */\n",
       "  background-color: var(--sklearn-color-fitted-level-3);\n",
       "  color: var(--sklearn-color-background);\n",
       "  text-decoration: none;\n",
       "}\n",
       "\n",
       "/* Span, style for the box shown on hovering the info icon */\n",
       ".sk-estimator-doc-link span {\n",
       "  display: none;\n",
       "  z-index: 9999;\n",
       "  position: relative;\n",
       "  font-weight: normal;\n",
       "  right: .2ex;\n",
       "  padding: .5ex;\n",
       "  margin: .5ex;\n",
       "  width: min-content;\n",
       "  min-width: 20ex;\n",
       "  max-width: 50ex;\n",
       "  color: var(--sklearn-color-text);\n",
       "  box-shadow: 2pt 2pt 4pt #999;\n",
       "  /* unfitted */\n",
       "  background: var(--sklearn-color-unfitted-level-0);\n",
       "  border: .5pt solid var(--sklearn-color-unfitted-level-3);\n",
       "}\n",
       "\n",
       ".sk-estimator-doc-link.fitted span {\n",
       "  /* fitted */\n",
       "  background: var(--sklearn-color-fitted-level-0);\n",
       "  border: var(--sklearn-color-fitted-level-3);\n",
       "}\n",
       "\n",
       ".sk-estimator-doc-link:hover span {\n",
       "  display: block;\n",
       "}\n",
       "\n",
       "/* \"?\"-specific style due to the `<a>` HTML tag */\n",
       "\n",
       "#sk-container-id-1 a.estimator_doc_link {\n",
       "  float: right;\n",
       "  font-size: 1rem;\n",
       "  line-height: 1em;\n",
       "  font-family: monospace;\n",
       "  background-color: var(--sklearn-color-background);\n",
       "  border-radius: 1rem;\n",
       "  height: 1rem;\n",
       "  width: 1rem;\n",
       "  text-decoration: none;\n",
       "  /* unfitted */\n",
       "  color: var(--sklearn-color-unfitted-level-1);\n",
       "  border: var(--sklearn-color-unfitted-level-1) 1pt solid;\n",
       "}\n",
       "\n",
       "#sk-container-id-1 a.estimator_doc_link.fitted {\n",
       "  /* fitted */\n",
       "  border: var(--sklearn-color-fitted-level-1) 1pt solid;\n",
       "  color: var(--sklearn-color-fitted-level-1);\n",
       "}\n",
       "\n",
       "/* On hover */\n",
       "#sk-container-id-1 a.estimator_doc_link:hover {\n",
       "  /* unfitted */\n",
       "  background-color: var(--sklearn-color-unfitted-level-3);\n",
       "  color: var(--sklearn-color-background);\n",
       "  text-decoration: none;\n",
       "}\n",
       "\n",
       "#sk-container-id-1 a.estimator_doc_link.fitted:hover {\n",
       "  /* fitted */\n",
       "  background-color: var(--sklearn-color-fitted-level-3);\n",
       "}\n",
       "</style><div id=\"sk-container-id-1\" class=\"sk-top-container\"><div class=\"sk-text-repr-fallback\"><pre>StandardScaler()</pre><b>In a Jupyter environment, please rerun this cell to show the HTML representation or trust the notebook. <br />On GitHub, the HTML representation is unable to render, please try loading this page with nbviewer.org.</b></div><div class=\"sk-container\" hidden><div class=\"sk-item\"><div class=\"sk-estimator fitted sk-toggleable\"><input class=\"sk-toggleable__control sk-hidden--visually\" id=\"sk-estimator-id-1\" type=\"checkbox\" checked><label for=\"sk-estimator-id-1\" class=\"sk-toggleable__label fitted sk-toggleable__label-arrow\"><div><div>StandardScaler</div></div><div><a class=\"sk-estimator-doc-link fitted\" rel=\"noreferrer\" target=\"_blank\" href=\"https://scikit-learn.org/1.6/modules/generated/sklearn.preprocessing.StandardScaler.html\">?<span>Documentation for StandardScaler</span></a><span class=\"sk-estimator-doc-link fitted\">i<span>Fitted</span></span></div></label><div class=\"sk-toggleable__content fitted\"><pre>StandardScaler()</pre></div> </div></div></div></div>"
      ],
      "text/plain": [
       "StandardScaler()"
      ]
     },
     "execution_count": 11,
     "metadata": {},
     "output_type": "execute_result"
    }
   ],
   "source": [
    "scaler"
   ]
  },
  {
   "cell_type": "code",
   "execution_count": 14,
   "id": "a2af780d-6b7f-449d-ba8e-bfd2a9363edd",
   "metadata": {},
   "outputs": [
    {
     "data": {
      "text/plain": [
       "array([[-1.47393679,  1.20365799, -1.56253475, -1.31260282],\n",
       "       [-0.13307079,  2.99237573, -1.27600637, -1.04563275],\n",
       "       [ 1.08589829,  0.08570939,  0.38585821,  0.28921757],\n",
       "       [-1.23014297,  0.75647855, -1.2187007 , -1.31260282]])"
      ]
     },
     "execution_count": 14,
     "metadata": {},
     "output_type": "execute_result"
    }
   ],
   "source": [
    "X_train[0:4]"
   ]
  },
  {
   "cell_type": "code",
   "execution_count": 15,
   "id": "8fda1374-1d1b-48d4-8e08-ec9cc53464c3",
   "metadata": {},
   "outputs": [
    {
     "data": {
      "text/plain": [
       "array([[ 0.35451684, -0.58505976,  0.55777524,  0.02224751],\n",
       "       [-0.13307079,  1.65083742, -1.16139502, -1.17911778],\n",
       "       [ 2.30486738, -1.0322392 ,  1.8185001 ,  1.49058286],\n",
       "       [ 0.23261993, -0.36147005,  0.44316389,  0.4227026 ]])"
      ]
     },
     "execution_count": 15,
     "metadata": {},
     "output_type": "execute_result"
    }
   ],
   "source": [
    "X_test[0:4]"
   ]
  },
  {
   "cell_type": "code",
   "execution_count": 16,
   "id": "9ab906ea-913c-44e3-8a2e-f443c76f1e2d",
   "metadata": {},
   "outputs": [],
   "source": [
    "# Convert to tensors\n",
    "X_train_tensor = torch.tensor(X_train, dtype=torch.float32)\n",
    "y_train_tensor = torch.tensor(y_train, dtype=torch.long)\n",
    "X_test_tensor = torch.tensor(X_test, dtype=torch.float32)\n",
    "y_test_tensor = torch.tensor(y_test, dtype=torch.long)"
   ]
  },
  {
   "cell_type": "code",
   "execution_count": 18,
   "id": "c20ca2f9-0da9-414e-bf81-ff902201f537",
   "metadata": {},
   "outputs": [
    {
     "data": {
      "text/plain": [
       "tensor([[-1.4739,  1.2037, -1.5625, -1.3126],\n",
       "        [-0.1331,  2.9924, -1.2760, -1.0456],\n",
       "        [ 1.0859,  0.0857,  0.3859,  0.2892],\n",
       "        [-1.2301,  0.7565, -1.2187, -1.3126]])"
      ]
     },
     "execution_count": 18,
     "metadata": {},
     "output_type": "execute_result"
    }
   ],
   "source": [
    "X_train_tensor[0:4]"
   ]
  },
  {
   "cell_type": "code",
   "execution_count": 19,
   "id": "9a6352d3-369c-4e6c-b554-106c717b26a1",
   "metadata": {},
   "outputs": [],
   "source": [
    "# Create DataLoader\n",
    "batch_size = 16\n",
    "train_dataset = TensorDataset(X_train_tensor, y_train_tensor)\n",
    "train_loader = DataLoader(train_dataset, batch_size=batch_size, shuffle=True)"
   ]
  },
  {
   "cell_type": "code",
   "execution_count": 25,
   "id": "8ddebdbf-ebb0-4bf1-8c5c-29ac623f9f86",
   "metadata": {},
   "outputs": [
    {
     "data": {
      "text/plain": [
       "torch.utils.data.dataloader.DataLoader"
      ]
     },
     "execution_count": 25,
     "metadata": {},
     "output_type": "execute_result"
    }
   ],
   "source": [
    "type(train_loader)"
   ]
  },
  {
   "cell_type": "code",
   "execution_count": 21,
   "id": "c2eaaf27-9ba2-47d6-b4e7-b41bea60c53c",
   "metadata": {},
   "outputs": [
    {
     "name": "stdout",
     "output_type": "stream",
     "text": [
      "torch.Size([16, 4])\n",
      "torch.Size([16])\n",
      "torch.Size([16, 4])\n",
      "torch.Size([16])\n",
      "torch.Size([16, 4])\n",
      "torch.Size([16])\n",
      "torch.Size([16, 4])\n",
      "torch.Size([16])\n",
      "torch.Size([16, 4])\n",
      "torch.Size([16])\n",
      "torch.Size([16, 4])\n",
      "torch.Size([16])\n",
      "torch.Size([16, 4])\n",
      "torch.Size([16])\n",
      "torch.Size([8, 4])\n",
      "torch.Size([8])\n"
     ]
    }
   ],
   "source": [
    "for batch_X, batch_y in train_loader:\n",
    "    print(batch_X.shape)\n",
    "    print(batch_y.shape)"
   ]
  },
  {
   "cell_type": "markdown",
   "id": "06b47b11",
   "metadata": {},
   "source": [
    "## 🔧 Define the Neural Network\n",
    "\n",
    "A simple neural network with 1 hidden layer and ReLU activation."
   ]
  },
  {
   "cell_type": "code",
   "execution_count": 43,
   "id": "17eedde9",
   "metadata": {},
   "outputs": [],
   "source": [
    "# Define a simple neural network by subclassing nn.Module\n",
    "class SimpleNN(nn.Module):\n",
    "    def __init__(self):\n",
    "        # Call the parent constructor\n",
    "        super(SimpleNN, self).__init__()\n",
    "\n",
    "        # Define the first fully connected (dense) layer\n",
    "        # Input features = 4 (e.g., if using the Iris dataset: sepal length, width, etc.)\n",
    "        # Output features = 10 (this is the number of neurons in the hidden layer)\n",
    "        self.fc1 = nn.Linear(4, 10)  \n",
    "\n",
    "        # Apply ReLU (Rectified Linear Unit) activation to add non-linearity\n",
    "        self.relu = nn.ReLU()\n",
    "\n",
    "        # Define the second fully connected layer\n",
    "        # Input = 10 (from previous layer), Output = 3 (number of classes to predict)\n",
    "        self.fc2 = nn.Linear(10, 3)\n",
    "\n",
    "    def forward(self, x):\n",
    "        # Forward pass through the network\n",
    "\n",
    "        # Step 1: Pass input through first linear layer\n",
    "        # Example: if x has shape [batch_size=16, 4], output will be [16, 10]\n",
    "        out = self.fc1(x)\n",
    "\n",
    "        # Step 2: Apply ReLU activation to the output of fc1\n",
    "        # ReLU zeroes out negative values, keeping only positive ones\n",
    "        out = self.relu(out)\n",
    "\n",
    "        # Step 3: Pass through the second linear layer\n",
    "        # This will produce 3 values per sample, corresponding to class scores (logits)\n",
    "        out = self.fc2(out)\n",
    "\n",
    "        # Return the final output (raw scores for each class)\n",
    "        return out"
   ]
  },
  {
   "cell_type": "markdown",
   "id": "4249d70c-2f72-4dce-ac29-651ede68869a",
   "metadata": {},
   "source": [
    "## 🔧 testing just one batch of data"
   ]
  },
  {
   "cell_type": "code",
   "execution_count": 26,
   "id": "2325d1e3-b8bd-49b8-8a5f-59f04d9362eb",
   "metadata": {},
   "outputs": [],
   "source": [
    "for batch_X, batch_y in train_loader:\n",
    "    X_batch = batch_X\n",
    "    y_batch = batch_y\n",
    "    break"
   ]
  },
  {
   "cell_type": "code",
   "execution_count": 35,
   "id": "21555f8e-a1b0-4a1f-aaf0-e68dd203543d",
   "metadata": {},
   "outputs": [
    {
     "data": {
      "text/plain": [
       "tensor([[ 1.3297,  0.3093,  1.1308,  1.4906],\n",
       "        [ 1.9392, -0.5851,  1.3601,  0.9566],\n",
       "        [ 0.5983, -1.2558,  0.6724,  0.4227],\n",
       "        [ 0.5983, -0.5851,  0.7870,  0.4227],\n",
       "        [-1.7177,  0.3093, -1.3906, -1.3126],\n",
       "        [-0.9863, -2.3738, -0.1299, -0.2447],\n",
       "        [ 0.1107,  0.3093,  0.6151,  0.8232],\n",
       "        [-1.4739,  0.7565, -1.3333, -1.1791],\n",
       "        [-0.7426, -0.8086,  0.0993,  0.2892],\n",
       "        [-1.7177, -0.1379, -1.3906, -1.3126],\n",
       "        [ 0.5983,  0.7565,  1.0735,  1.6241],\n",
       "        [ 0.7202,  0.3093,  0.4432,  0.4227],\n",
       "        [ 0.3545, -0.5851,  0.1566,  0.1557],\n",
       "        [ 0.1107, -0.1379,  0.2712,  0.4227],\n",
       "        [ 1.0859,  0.5329,  1.1308,  1.7576],\n",
       "        [-1.1082, -1.4794, -0.2445, -0.2447]])"
      ]
     },
     "execution_count": 35,
     "metadata": {},
     "output_type": "execute_result"
    }
   ],
   "source": [
    "X_batch"
   ]
  },
  {
   "cell_type": "code",
   "execution_count": 28,
   "id": "7cbd24e5-5a93-4086-82a6-799474de951e",
   "metadata": {},
   "outputs": [
    {
     "data": {
      "text/plain": [
       "16"
      ]
     },
     "execution_count": 28,
     "metadata": {},
     "output_type": "execute_result"
    }
   ],
   "source": [
    "len(X_batch)"
   ]
  },
  {
   "cell_type": "code",
   "execution_count": 29,
   "id": "0aafc6d7-3957-4f95-9a7f-4ca15cd49922",
   "metadata": {},
   "outputs": [
    {
     "data": {
      "text/plain": [
       "16"
      ]
     },
     "execution_count": 29,
     "metadata": {},
     "output_type": "execute_result"
    }
   ],
   "source": [
    "len(y_batch)"
   ]
  },
  {
   "cell_type": "code",
   "execution_count": 30,
   "id": "66da6b5e-9032-4015-93eb-a56a397590e6",
   "metadata": {},
   "outputs": [],
   "source": [
    "model = SimpleNN()\n",
    "criterion = nn.CrossEntropyLoss()\n",
    "optimizer = optim.Adam(model.parameters(), lr=0.01, weight_decay=0.01)"
   ]
  },
  {
   "cell_type": "code",
   "execution_count": 38,
   "id": "185c904c-2b94-448d-b4e7-342549f29ccd",
   "metadata": {},
   "outputs": [
    {
     "data": {
      "text/plain": [
       "__main__.SimpleNN"
      ]
     },
     "execution_count": 38,
     "metadata": {},
     "output_type": "execute_result"
    }
   ],
   "source": [
    "type(model)"
   ]
  },
  {
   "cell_type": "code",
   "execution_count": 39,
   "id": "5c65df86-c162-4cb4-80ef-fe64ce465b00",
   "metadata": {},
   "outputs": [
    {
     "name": "stdout",
     "output_type": "stream",
     "text": [
      "SimpleNN(\n",
      "  (fc1): Linear(in_features=4, out_features=10, bias=True)\n",
      "  (relu): ReLU()\n",
      "  (fc2): Linear(in_features=10, out_features=3, bias=True)\n",
      ")\n"
     ]
    }
   ],
   "source": [
    "print(model)"
   ]
  },
  {
   "cell_type": "code",
   "execution_count": 32,
   "id": "e98cc341-fe59-42d4-a8f7-658b567f66d0",
   "metadata": {},
   "outputs": [],
   "source": [
    "optimizer.zero_grad()\n",
    "outputs = model(batch_X)"
   ]
  },
  {
   "cell_type": "code",
   "execution_count": 33,
   "id": "3ab035db-8ae8-4ee7-bbe6-057a6bddec41",
   "metadata": {},
   "outputs": [
    {
     "data": {
      "text/plain": [
       "tensor([[-0.4261, -0.0335,  0.1548],\n",
       "        [-0.4374,  0.0952,  0.2108],\n",
       "        [-0.3369,  0.1112,  0.1970],\n",
       "        [-0.3158,  0.0932,  0.1963],\n",
       "        [-0.4496,  0.0587,  0.2416],\n",
       "        [-0.2936,  0.2107,  0.1348],\n",
       "        [-0.3941, -0.0474,  0.1387],\n",
       "        [-0.4506,  0.0627,  0.3028],\n",
       "        [-0.3663,  0.0399,  0.0990],\n",
       "        [-0.4251,  0.0586,  0.1960],\n",
       "        [-0.4563, -0.1331,  0.0901],\n",
       "        [-0.3046,  0.0762,  0.2671],\n",
       "        [-0.2815,  0.1120,  0.2533],\n",
       "        [-0.3386,  0.0337,  0.2014],\n",
       "        [-0.4387, -0.0993,  0.1198],\n",
       "        [-0.3150,  0.1789,  0.0954]], grad_fn=<AddmmBackward0>)"
      ]
     },
     "execution_count": 33,
     "metadata": {},
     "output_type": "execute_result"
    }
   ],
   "source": [
    "outputs"
   ]
  },
  {
   "cell_type": "code",
   "execution_count": 34,
   "id": "68608af4-f47c-49fc-af0b-1d591e330b92",
   "metadata": {},
   "outputs": [
    {
     "data": {
      "text/plain": [
       "16"
      ]
     },
     "execution_count": 34,
     "metadata": {},
     "output_type": "execute_result"
    }
   ],
   "source": [
    "len(outputs)"
   ]
  },
  {
   "cell_type": "code",
   "execution_count": 36,
   "id": "051963a1-f164-40bb-8640-f72f258973f4",
   "metadata": {},
   "outputs": [
    {
     "data": {
      "text/plain": [
       "tensor([2, 2, 1, 2, 0, 1, 1, 0, 1, 0, 2, 1, 1, 1, 2, 1])"
      ]
     },
     "execution_count": 36,
     "metadata": {},
     "output_type": "execute_result"
    }
   ],
   "source": [
    "y_batch"
   ]
  },
  {
   "cell_type": "code",
   "execution_count": 37,
   "id": "1c7a6093-64a1-4a73-bf4d-6d90b29a3097",
   "metadata": {},
   "outputs": [
    {
     "data": {
      "text/plain": [
       "16"
      ]
     },
     "execution_count": 37,
     "metadata": {},
     "output_type": "execute_result"
    }
   ],
   "source": [
    "len(y_batch)"
   ]
  },
  {
   "cell_type": "code",
   "execution_count": 40,
   "id": "c6bee842-bea7-4c0e-9034-1aa990ea81f8",
   "metadata": {},
   "outputs": [],
   "source": [
    "loss = criterion(outputs, batch_y)"
   ]
  },
  {
   "cell_type": "code",
   "execution_count": 41,
   "id": "ad00024d-d288-44ea-8706-3298001f0903",
   "metadata": {},
   "outputs": [
    {
     "data": {
      "text/plain": [
       "tensor(1.0685, grad_fn=<NllLossBackward0>)"
      ]
     },
     "execution_count": 41,
     "metadata": {},
     "output_type": "execute_result"
    }
   ],
   "source": [
    "loss"
   ]
  },
  {
   "cell_type": "markdown",
   "id": "b5271433",
   "metadata": {},
   "source": [
    "## 🏋️‍♀️ Train the Model"
   ]
  },
  {
   "cell_type": "code",
   "execution_count": 44,
   "id": "b1bb90ce",
   "metadata": {},
   "outputs": [
    {
     "name": "stdout",
     "output_type": "stream",
     "text": [
      "Epoch [10/100], Loss: 2.5225\n",
      "Epoch [20/100], Loss: 1.1109\n",
      "Epoch [30/100], Loss: 0.8004\n",
      "Epoch [40/100], Loss: 0.7235\n",
      "Epoch [50/100], Loss: 0.6972\n",
      "Epoch [60/100], Loss: 0.7430\n",
      "Epoch [70/100], Loss: 0.7252\n",
      "Epoch [80/100], Loss: 0.6773\n",
      "Epoch [90/100], Loss: 0.7573\n",
      "Epoch [100/100], Loss: 0.6801\n"
     ]
    }
   ],
   "source": [
    "# Instantiate (create) the neural network model from the class we defined earlier\n",
    "model = SimpleNN()\n",
    "\n",
    "# Define the loss function\n",
    "# CrossEntropyLoss is used for multi-class classification problems\n",
    "# It compares the predicted class scores (logits) with the true labels\n",
    "criterion = nn.CrossEntropyLoss()\n",
    "\n",
    "# Define the optimizer\n",
    "# Adam is a commonly used optimizer that adapts the learning rate for each parameter\n",
    "# lr = learning rate (how big a step we take during each update)\n",
    "# weight_decay = L2 regularization (penalizes large weights to prevent overfitting)\n",
    "optimizer = optim.Adam(model.parameters(), lr=0.01, weight_decay=0.01)\n",
    "\n",
    "# Set the number of training epochs\n",
    "# One epoch means the model has seen the entire dataset once\n",
    "epochs = 100\n",
    "\n",
    "# Store the loss for each epoch so we can plot or analyze it later\n",
    "losses = []\n",
    "\n",
    "# Start training the model\n",
    "for epoch in range(epochs):\n",
    "    epoch_loss = 0.0  # Reset epoch loss to 0 at the beginning of each epoch\n",
    "\n",
    "    # Loop over batches from the DataLoader\n",
    "    # Each batch contains a subset of training data (batch_X: input, batch_y: target labels)\n",
    "    for batch_X, batch_y in train_loader:\n",
    "\n",
    "        # Step 1: Clear old gradients from the previous step (otherwise they'll accumulate)\n",
    "        optimizer.zero_grad()\n",
    "\n",
    "        # Step 2: Perform a forward pass to get predictions from the model\n",
    "        outputs = model(batch_X)  # Shape: [batch_size, num_classes]\n",
    "\n",
    "        # Step 3: Calculate the loss between the predictions and true labels\n",
    "        loss = criterion(outputs, batch_y)\n",
    "\n",
    "        # Step 4: Backpropagate the loss (compute gradients)\n",
    "        loss.backward()\n",
    "\n",
    "        # Step 5: Update model parameters using the computed gradients\n",
    "        optimizer.step()\n",
    "\n",
    "        # Add the current batch's loss to the total epoch loss\n",
    "        epoch_loss += loss.item()\n",
    "\n",
    "    # Store the average loss for the epoch\n",
    "    losses.append(epoch_loss / len(train_loader))\n",
    "\n",
    "    # Print progress every 10 epochs\n",
    "    if (epoch+1) % 10 == 0:\n",
    "        print(f\"Epoch [{epoch+1}/{epochs}], Loss: {epoch_loss:.4f}\")"
   ]
  },
  {
   "cell_type": "markdown",
   "id": "f689a306",
   "metadata": {},
   "source": [
    "## 📈 Visualize Training Loss"
   ]
  },
  {
   "cell_type": "code",
   "execution_count": 45,
   "id": "3146894a",
   "metadata": {},
   "outputs": [
    {
     "data": {
      "image/png": "[encoded data removed]",
      "text/plain": [
       "<Figure size 640x480 with 1 Axes>"
      ]
     },
     "metadata": {},
     "output_type": "display_data"
    }
   ],
   "source": [
    "plt.plot(losses)\n",
    "plt.title('Training Loss over Epochs')\n",
    "plt.xlabel('Epoch')\n",
    "plt.ylabel('Loss')\n",
    "plt.show()"
   ]
  },
  {
   "cell_type": "markdown",
   "id": "dedfef90",
   "metadata": {},
   "source": [
    "## ✅ Evaluate the Model on Test Data"
   ]
  },
  {
   "cell_type": "code",
   "execution_count": 46,
   "id": "c523be6d",
   "metadata": {},
   "outputs": [
    {
     "name": "stdout",
     "output_type": "stream",
     "text": [
      "Test Accuracy: 100.00%\n"
     ]
    }
   ],
   "source": [
    "with torch.no_grad():\n",
    "    outputs = model(X_test_tensor)\n",
    "    predicted = torch.argmax(outputs, dim=1)\n",
    "    accuracy = (predicted == y_test_tensor).float().mean()\n",
    "    print(f\"Test Accuracy: {accuracy.item()*100:.2f}%\")"
   ]
  },
  {
   "cell_type": "markdown",
   "id": "92685992",
   "metadata": {},
   "source": [
    "## 📌 Summary\n",
    "- We used PyTorch to define, train, and evaluate a basic feed-forward neural network.\n",
    "- Covered key deep learning concepts like batch size, epochs, optimizers, loss functions, and L2 regularization.\n",
    "- This forms the foundation for building more complex models like CNNs or RNNs.\n",
    "\n",
    "🔁 Try modifying the number of layers, units, or adding dropout to improve performance!"
   ]
  }
 ],
 "metadata": {
  "kernelspec": {
   "display_name": "python gen_ai",
   "language": "python",
   "name": "gen_ai"
  },
  "language_info": {
   "codemirror_mode": {
    "name": "ipython",
    "version": 3
   },
   "file_extension": ".py",
   "mimetype": "text/x-python",
   "name": "python",
   "nbconvert_exporter": "python",
   "pygments_lexer": "ipython3",
   "version": "3.12.7"
  }
 },
 "nbformat": 4,
 "nbformat_minor": 5
}
