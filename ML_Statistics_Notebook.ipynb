{
 "cells": [
  {
   "cell_type": "markdown",
   "id": "eae4ef8d",
   "metadata": {},
   "source": [
    "# Statistics Fundamentals Notebook"
   ]
  },
  {
   "cell_type": "markdown",
   "id": "2ea9241b",
   "metadata": {},
   "source": [
    "## 1. Mean, Median, Mode\n",
    "- Measures of central tendency.\n",
    "- They summarize a dataset with a single representative value."
   ]
  },
  {
   "cell_type": "code",
   "execution_count": 18,
   "id": "a241c844",
   "metadata": {},
   "outputs": [
    {
     "name": "stdout",
     "output_type": "stream",
     "text": [
      "Mean: 4.0\n",
      "Median: 4.5\n",
      "Mode: ModeResult(mode=5, count=3)\n"
     ]
    }
   ],
   "source": [
    "import numpy as np\n",
    "from scipy import stats\n",
    "\n",
    "data = [1, 2, 2, 3, 4, 5, 5, 5, 6, 7]\n",
    "print(\"Mean:\", np.mean(data))\n",
    "print(\"Median:\", np.median(data))\n",
    "print(\"Mode:\", stats.mode(data))"
   ]
  },
  {
   "cell_type": "markdown",
   "id": "5278af34",
   "metadata": {},
   "source": [
    "## 2. Variance & Standard Deviation\n",
    "- Variance measures the average squared deviation from the mean.\n",
    "- Standard deviation is the square root of variance."
   ]
  },
  {
   "cell_type": "code",
   "execution_count": 2,
   "id": "d0940911",
   "metadata": {},
   "outputs": [
    {
     "name": "stdout",
     "output_type": "stream",
     "text": [
      "Variance: 3.4\n",
      "Standard Deviation: 1.8439088914585775\n"
     ]
    }
   ],
   "source": [
    "print(\"Variance:\", np.var(data))\n",
    "print(\"Standard Deviation:\", np.std(data))"
   ]
  },
  {
   "cell_type": "markdown",
   "id": "89cc749b",
   "metadata": {},
   "source": [
    "## 3. Probability\n",
    "- Probability is the measure of likelihood of an event."
   ]
  },
  {
   "cell_type": "code",
   "execution_count": 3,
   "id": "2b311998",
   "metadata": {},
   "outputs": [
    {
     "name": "stdout",
     "output_type": "stream",
     "text": [
      "P(H): 0.5\n"
     ]
    }
   ],
   "source": [
    "outcomes = ['H', 'T']\n",
    "probability_H = outcomes.count('H') / len(outcomes)\n",
    "print(\"P(H):\", probability_H)"
   ]
  },
  {
   "cell_type": "markdown",
   "id": "a9f6e3df",
   "metadata": {},
   "source": [
    "## 4. Distributions (Normal)\n",
    "- Normal distribution is a bell-shaped curve.\n",
    "- Used widely in modeling natural phenomena."
   ]
  },
  {
   "cell_type": "code",
   "execution_count": 4,
   "id": "0ce7542a",
   "metadata": {},
   "outputs": [
    {
     "name": "stderr",
     "output_type": "stream",
     "text": [
      "Matplotlib is building the font cache; this may take a moment.\n"
     ]
    },
    {
     "data": {
      "image/png": "[encoded data removed]",
      "text/plain": [
       "<Figure size 640x480 with 1 Axes>"
      ]
     },
     "metadata": {},
     "output_type": "display_data"
    }
   ],
   "source": [
    "import matplotlib.pyplot as plt\n",
    "\n",
    "x = np.random.normal(loc=0, scale=1, size=1000)\n",
    "plt.hist(x, bins=30, density=True, alpha=0.6, color='g')\n",
    "plt.title(\"Normal Distribution\")\n",
    "plt.show()"
   ]
  },
  {
   "cell_type": "markdown",
   "id": "cf4f6030",
   "metadata": {},
   "source": [
    "## 5. Skewness & Kurtosis\n",
    "- Skewness measures asymmetry.\n",
    "- Kurtosis measures tail heaviness of distribution."
   ]
  },
  {
   "cell_type": "code",
   "execution_count": 5,
   "id": "22c4d658",
   "metadata": {},
   "outputs": [
    {
     "name": "stdout",
     "output_type": "stream",
     "text": [
      "Skewness: -0.09570461374352479\n",
      "Kurtosis: -1.14878892733564\n"
     ]
    }
   ],
   "source": [
    "from scipy.stats import skew, kurtosis\n",
    "\n",
    "print(\"Skewness:\", skew(data))\n",
    "print(\"Kurtosis:\", kurtosis(data))"
   ]
  },
  {
   "cell_type": "markdown",
   "id": "f706af8d",
   "metadata": {},
   "source": [
    "## 6. Correlation & Covariance\n",
    "- Correlation shows linear relationship (-1 to 1).\n",
    "- Covariance indicates how two variables vary together."
   ]
  },
  {
   "cell_type": "code",
   "execution_count": 6,
   "id": "e46a6f77",
   "metadata": {},
   "outputs": [
    {
     "name": "stdout",
     "output_type": "stream",
     "text": [
      "Correlation: -0.9999999999999999\n",
      "Covariance: -2.5\n"
     ]
    }
   ],
   "source": [
    "x = [1, 2, 3, 4, 5]\n",
    "y = [5, 4, 3, 2, 1]\n",
    "\n",
    "print(\"Correlation:\", np.corrcoef(x, y)[0, 1])\n",
    "print(\"Covariance:\", np.cov(x, y)[0, 1])"
   ]
  },
  {
   "cell_type": "markdown",
   "id": "c3fd1a1d",
   "metadata": {},
   "source": [
    "## 7. Z-score & Standardization\n",
    "- Z-score tells how far a value is from the mean in std deviations.\n",
    "- Standardization rescales to mean 0 and std 1."
   ]
  },
  {
   "cell_type": "code",
   "execution_count": 7,
   "id": "ea48d529",
   "metadata": {},
   "outputs": [
    {
     "name": "stdout",
     "output_type": "stream",
     "text": [
      "Z-scores: [-1.62697843 -1.08465229 -1.08465229 -0.54232614  0.          0.54232614\n",
      "  0.54232614  0.54232614  1.08465229  1.62697843]\n"
     ]
    }
   ],
   "source": [
    "from scipy.stats import zscore\n",
    "\n",
    "data_z = zscore(data)\n",
    "print(\"Z-scores:\", data_z)"
   ]
  },
  {
   "cell_type": "markdown",
   "id": "611ce078",
   "metadata": {},
   "source": [
    "## 8. Confidence Intervals\n",
    "- Estimates the range for a population parameter.\n",
    "- Given a confidence level (like 95%)."
   ]
  },
  {
   "cell_type": "code",
   "execution_count": 8,
   "id": "5e81d427",
   "metadata": {},
   "outputs": [
    {
     "name": "stdout",
     "output_type": "stream",
     "text": [
      "Confidence Interval: (2.6095960978455395, 5.3904039021544605)\n"
     ]
    }
   ],
   "source": [
    "import statsmodels.stats.api as sms\n",
    "\n",
    "ci = sms.DescrStatsW(data).tconfint_mean()\n",
    "print(\"Confidence Interval:\", ci)"
   ]
  },
  {
   "cell_type": "markdown",
   "id": "22af7b4e",
   "metadata": {},
   "source": [
    "## 9. Hypothesis Testing (t-test)\n",
    "- Used to infer about a population from a sample.\n",
    "- Checks if sample mean is statistically different."
   ]
  },
  {
   "cell_type": "code",
   "execution_count": 9,
   "id": "74c5b1b8",
   "metadata": {},
   "outputs": [
    {
     "name": "stdout",
     "output_type": "stream",
     "text": [
      "t-statistic: 0.0 p-value: 1.0\n"
     ]
    }
   ],
   "source": [
    "from scipy.stats import ttest_1samp\n",
    "\n",
    "t_stat, p_val = ttest_1samp(data, popmean=4)\n",
    "print(\"t-statistic:\", t_stat, \"p-value:\", p_val)"
   ]
  },
  {
   "cell_type": "markdown",
   "id": "f5dd719f",
   "metadata": {},
   "source": [
    "## 10. Bayes’ Theorem\n",
    "- Updates probabilities with new evidence.\n",
    "- Core idea in probabilistic ML models."
   ]
  },
  {
   "cell_type": "code",
   "execution_count": 10,
   "id": "0dc1b9b6",
   "metadata": {},
   "outputs": [
    {
     "name": "stdout",
     "output_type": "stream",
     "text": [
      "P(A|B): 0.35\n"
     ]
    }
   ],
   "source": [
    "# P(A|B) = P(B|A) * P(A) / P(B)\n",
    "P_A = 0.3\n",
    "P_B_given_A = 0.7\n",
    "P_B = 0.6\n",
    "\n",
    "P_A_given_B = (P_B_given_A * P_A) / P_B\n",
    "print(\"P(A|B):\", P_A_given_B)"
   ]
  },
  {
   "cell_type": "markdown",
   "id": "e7ac5518",
   "metadata": {},
   "source": [
    "## 11. Outliers & IQR\n",
    "- Outliers can distort models.\n",
    "- IQR is used to detect outliers (Q3 - Q1)."
   ]
  },
  {
   "cell_type": "code",
   "execution_count": 19,
   "id": "9843340f",
   "metadata": {},
   "outputs": [
    {
     "name": "stdout",
     "output_type": "stream",
     "text": [
      "Outliers: [36.901274479551276, 100, 105, 110]\n"
     ]
    }
   ],
   "source": [
    "import numpy as np\n",
    "\n",
    "# Generate data with outliers\n",
    "np.random.seed(42)\n",
    "data = np.random.normal(loc=50, scale=5, size=100).tolist()\n",
    "data += [100, 105, 110]  # Add outliers\n",
    "\n",
    "# IQR method\n",
    "Q1 = np.percentile(data, 25)\n",
    "Q3 = np.percentile(data, 75)\n",
    "IQR = Q3 - Q1\n",
    "\n",
    "lower = Q1 - 1.5 * IQR\n",
    "upper = Q3 + 1.5 * IQR\n",
    "\n",
    "outliers = [x for x in data if x < lower or x > upper]\n",
    "print(\"Outliers:\", outliers)"
   ]
  },
  {
   "cell_type": "markdown",
   "id": "c8c20a14-4880-4ba1-a94e-bc9a967ca3b5",
   "metadata": {},
   "source": [
    "#Hypothesis testing\n",
    "\n",
    "Null Hypothesis (H₀): There is no difference in the average tip amount between \n",
    "males and females.\n",
    "\n",
    "Alternative Hypothesis (H₁): There is a difference in the average tip amount \n",
    "between males and females."
   ]
  },
  {
   "cell_type": "markdown",
   "id": "c36a50b3-deb0-471b-8786-ccfa91758b85",
   "metadata": {},
   "source": [
    "### 🔍 Key Concepts Explained\n",
    "\n",
    "| **Concept**             | **Description** |\n",
    "|-------------------------|-----------------|\n",
    "| **Null Hypothesis (H₀)** | A default assumption — here, that gender has no effect on tip amount. |\n",
    "| **Alternative Hypothesis (H₁)** | The hypothesis that there *is* a difference between groups. |\n",
    "| **T-test**              | A statistical test used to compare the means of two groups. |\n",
    "| **P-value**             | Probability of observing the data assuming H₀ is true. A small p-value (e.g., < 0.05) indicates strong evidence against H₀. |\n",
    "| **Alpha (α)**           | The significance level — a threshold (commonly 0.05) to decide whether to reject H₀. |\n",
    "| **T-statistic**         | A value that measures how many standard deviations the sample mean is from the population mean. |"
   ]
  },
  {
   "cell_type": "code",
   "execution_count": 20,
   "id": "d86079e6-534c-4dc2-bf65-aaefc0e43f82",
   "metadata": {},
   "outputs": [
    {
     "name": "stdout",
     "output_type": "stream",
     "text": [
      "T-statistic: 1.388\n",
      "P-value: 0.166\n",
      "Fail to reject the null hypothesis: There is NO significant difference in tips between males and females.\n"
     ]
    }
   ],
   "source": [
    "import seaborn as sns\n",
    "import pandas as pd\n",
    "from scipy.stats import ttest_ind\n",
    "\n",
    "# Load the dataset\n",
    "tips = sns.load_dataset('tips')\n",
    "\n",
    "# Separate the data based on gender\n",
    "male_tips = tips[tips['sex'] == 'Male']['tip']\n",
    "female_tips = tips[tips['sex'] == 'Female']['tip']\n",
    "\n",
    "# Perform an independent t-test\n",
    "t_stat, p_value = ttest_ind(male_tips, female_tips)\n",
    "\n",
    "# Show results\n",
    "print(f\"T-statistic: {t_stat:.3f}\")\n",
    "print(f\"P-value: {p_value:.3f}\")\n",
    "\n",
    "# Interpret the result\n",
    "alpha = 0.05\n",
    "if p_value < alpha:\n",
    "    print(\"Reject the null hypothesis: There IS a significant difference in tips between males and females.\")\n",
    "else:\n",
    "    print(\"Fail to reject the null hypothesis: There is NO significant difference in tips between males and females.\")"
   ]
  },
  {
   "cell_type": "code",
   "execution_count": 22,
   "id": "c3007e9a-28ae-45ae-9edd-a52385746916",
   "metadata": {},
   "outputs": [
    {
     "data": {
      "text/html": [
       "<div>\n",
       "<style scoped>\n",
       "    .dataframe tbody tr th:only-of-type {\n",
       "        vertical-align: middle;\n",
       "    }\n",
       "\n",
       "    .dataframe tbody tr th {\n",
       "        vertical-align: top;\n",
       "    }\n",
       "\n",
       "    .dataframe thead th {\n",
       "        text-align: right;\n",
       "    }\n",
       "</style>\n",
       "<table border=\"1\" class=\"dataframe\">\n",
       "  <thead>\n",
       "    <tr style=\"text-align: right;\">\n",
       "      <th></th>\n",
       "      <th>total_bill</th>\n",
       "      <th>tip</th>\n",
       "      <th>sex</th>\n",
       "      <th>smoker</th>\n",
       "      <th>day</th>\n",
       "      <th>time</th>\n",
       "      <th>size</th>\n",
       "    </tr>\n",
       "  </thead>\n",
       "  <tbody>\n",
       "    <tr>\n",
       "      <th>0</th>\n",
       "      <td>16.99</td>\n",
       "      <td>1.01</td>\n",
       "      <td>Female</td>\n",
       "      <td>No</td>\n",
       "      <td>Sun</td>\n",
       "      <td>Dinner</td>\n",
       "      <td>2</td>\n",
       "    </tr>\n",
       "    <tr>\n",
       "      <th>1</th>\n",
       "      <td>10.34</td>\n",
       "      <td>1.66</td>\n",
       "      <td>Male</td>\n",
       "      <td>No</td>\n",
       "      <td>Sun</td>\n",
       "      <td>Dinner</td>\n",
       "      <td>3</td>\n",
       "    </tr>\n",
       "    <tr>\n",
       "      <th>2</th>\n",
       "      <td>21.01</td>\n",
       "      <td>3.50</td>\n",
       "      <td>Male</td>\n",
       "      <td>No</td>\n",
       "      <td>Sun</td>\n",
       "      <td>Dinner</td>\n",
       "      <td>3</td>\n",
       "    </tr>\n",
       "    <tr>\n",
       "      <th>3</th>\n",
       "      <td>23.68</td>\n",
       "      <td>3.31</td>\n",
       "      <td>Male</td>\n",
       "      <td>No</td>\n",
       "      <td>Sun</td>\n",
       "      <td>Dinner</td>\n",
       "      <td>2</td>\n",
       "    </tr>\n",
       "    <tr>\n",
       "      <th>4</th>\n",
       "      <td>24.59</td>\n",
       "      <td>3.61</td>\n",
       "      <td>Female</td>\n",
       "      <td>No</td>\n",
       "      <td>Sun</td>\n",
       "      <td>Dinner</td>\n",
       "      <td>4</td>\n",
       "    </tr>\n",
       "    <tr>\n",
       "      <th>...</th>\n",
       "      <td>...</td>\n",
       "      <td>...</td>\n",
       "      <td>...</td>\n",
       "      <td>...</td>\n",
       "      <td>...</td>\n",
       "      <td>...</td>\n",
       "      <td>...</td>\n",
       "    </tr>\n",
       "    <tr>\n",
       "      <th>239</th>\n",
       "      <td>29.03</td>\n",
       "      <td>5.92</td>\n",
       "      <td>Male</td>\n",
       "      <td>No</td>\n",
       "      <td>Sat</td>\n",
       "      <td>Dinner</td>\n",
       "      <td>3</td>\n",
       "    </tr>\n",
       "    <tr>\n",
       "      <th>240</th>\n",
       "      <td>27.18</td>\n",
       "      <td>2.00</td>\n",
       "      <td>Female</td>\n",
       "      <td>Yes</td>\n",
       "      <td>Sat</td>\n",
       "      <td>Dinner</td>\n",
       "      <td>2</td>\n",
       "    </tr>\n",
       "    <tr>\n",
       "      <th>241</th>\n",
       "      <td>22.67</td>\n",
       "      <td>2.00</td>\n",
       "      <td>Male</td>\n",
       "      <td>Yes</td>\n",
       "      <td>Sat</td>\n",
       "      <td>Dinner</td>\n",
       "      <td>2</td>\n",
       "    </tr>\n",
       "    <tr>\n",
       "      <th>242</th>\n",
       "      <td>17.82</td>\n",
       "      <td>1.75</td>\n",
       "      <td>Male</td>\n",
       "      <td>No</td>\n",
       "      <td>Sat</td>\n",
       "      <td>Dinner</td>\n",
       "      <td>2</td>\n",
       "    </tr>\n",
       "    <tr>\n",
       "      <th>243</th>\n",
       "      <td>18.78</td>\n",
       "      <td>3.00</td>\n",
       "      <td>Female</td>\n",
       "      <td>No</td>\n",
       "      <td>Thur</td>\n",
       "      <td>Dinner</td>\n",
       "      <td>2</td>\n",
       "    </tr>\n",
       "  </tbody>\n",
       "</table>\n",
       "<p>244 rows × 7 columns</p>\n",
       "</div>"
      ],
      "text/plain": [
       "     total_bill   tip     sex smoker   day    time  size\n",
       "0         16.99  1.01  Female     No   Sun  Dinner     2\n",
       "1         10.34  1.66    Male     No   Sun  Dinner     3\n",
       "2         21.01  3.50    Male     No   Sun  Dinner     3\n",
       "3         23.68  3.31    Male     No   Sun  Dinner     2\n",
       "4         24.59  3.61  Female     No   Sun  Dinner     4\n",
       "..          ...   ...     ...    ...   ...     ...   ...\n",
       "239       29.03  5.92    Male     No   Sat  Dinner     3\n",
       "240       27.18  2.00  Female    Yes   Sat  Dinner     2\n",
       "241       22.67  2.00    Male    Yes   Sat  Dinner     2\n",
       "242       17.82  1.75    Male     No   Sat  Dinner     2\n",
       "243       18.78  3.00  Female     No  Thur  Dinner     2\n",
       "\n",
       "[244 rows x 7 columns]"
      ]
     },
     "execution_count": 22,
     "metadata": {},
     "output_type": "execute_result"
    }
   ],
   "source": [
    "tips"
   ]
  },
  {
   "cell_type": "code",
   "execution_count": null,
   "id": "ed18d4ec-4cff-44b9-b0b5-ac6d26ea6b16",
   "metadata": {},
   "outputs": [],
   "source": []
  }
 ],
 "metadata": {
  "kernelspec": {
   "display_name": "Python 3 (ipykernel)",
   "language": "python",
   "name": "python3"
  },
  "language_info": {
   "codemirror_mode": {
    "name": "ipython",
    "version": 3
   },
   "file_extension": ".py",
   "mimetype": "text/x-python",
   "name": "python",
   "nbconvert_exporter": "python",
   "pygments_lexer": "ipython3",
   "version": "3.12.7"
  }
 },
 "nbformat": 4,
 "nbformat_minor": 5
}
